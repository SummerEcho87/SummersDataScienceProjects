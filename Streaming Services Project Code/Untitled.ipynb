{
 "cells": [
  {
   "cell_type": "code",
   "execution_count": 10,
   "id": "7e99f69f-1d7a-46a6-8d4f-02ec6118307b",
   "metadata": {},
   "outputs": [
    {
     "name": "stderr",
     "output_type": "stream",
     "text": [
      "Warning message in install.packages(\"ggplot2\"):\n",
      "\"'lib = \"C:/Program Files/R/R-4.2.2/library\"' is not writable\"\n"
     ]
    },
    {
     "ename": "ERROR",
     "evalue": "Error in install.packages(\"ggplot2\"): unable to install packages\n",
     "output_type": "error",
     "traceback": [
      "Error in install.packages(\"ggplot2\"): unable to install packages\nTraceback:\n",
      "1. install.packages(\"ggplot2\")",
      "2. stop(\"unable to install packages\")"
     ]
    }
   ],
   "source": [
    "install.packages(\"ggplot2\")\n",
    "install.packages(\"datasets\")\n",
    "install.packages(\"readxl\") \n",
    "install.packages(\"dplyr\") \n",
    "install.packages(\"PerformanceAnalytics\")\n",
    "install.packages(\"corrplot\") \n",
    "install.packages(\"gapminder\")\n",
    "install.packages(\"gridextra\")\n",
    "install.packages(\"Ecdat\")\n",
    "install.packages(\"corpcor\")\n",
    "install.packages(\"GPArotation\")\n",
    "install.packages(\"psych\")\n",
    "install.packages(\"IDPmisc\")\n",
    "install.packages(\"lattice\") \n",
    "install.packages(\"treetop\")\n",
    "install.packages(\"scales\")\n",
    "install.packages(\"rcompanion\")\n",
    "install.packages(\"gmodels\")\n",
    "install.packages(\"car\")\n",
    "install.packages(\"caret\")\n",
    "install.packages(\"gvlma\")\n",
    "install.packages(\"predictmeans\")\n",
    "install.packages(\"caret\")\n",
    "install.packages(\"magrittr\")\n",
    "install.packages(\"tidyr\")\n",
    "install.packages(\"lmtest\")\n",
    "install.packages(\"popbio\")\n",
    "install.packages(\"e1071\")\n",
    "install.packages(\"data.table\")\n",
    "install.packages(\"effects\")\n",
    "install.packages(\"multcomp\")\n",
    "install.packages(\"mvnormtest\")"
   ]
  },
  {
   "cell_type": "code",
   "execution_count": 11,
   "id": "047f0cc2-667b-4a40-8fce-b8d30d829b9d",
   "metadata": {},
   "outputs": [
    {
     "name": "stderr",
     "output_type": "stream",
     "text": [
      "Warning message:\n",
      "\"package 'datasets' is in use and will not be installed\"\n"
     ]
    }
   ],
   "source": [
    "install.packages(\"datasets\")"
   ]
  },
  {
   "cell_type": "code",
   "execution_count": null,
   "id": "ffc6ee19-411c-40f8-8b7b-2ae57876c0d1",
   "metadata": {},
   "outputs": [],
   "source": []
  }
 ],
 "metadata": {
  "kernelspec": {
   "display_name": "R",
   "language": "R",
   "name": "ir"
  },
  "language_info": {
   "codemirror_mode": "r",
   "file_extension": ".r",
   "mimetype": "text/x-r-source",
   "name": "R",
   "pygments_lexer": "r",
   "version": "4.2.2"
  }
 },
 "nbformat": 4,
 "nbformat_minor": 5
}
