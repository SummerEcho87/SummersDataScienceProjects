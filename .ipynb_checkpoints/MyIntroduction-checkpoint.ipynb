{
 "cells": [
  {
   "cell_type": "markdown",
   "id": "f18aa9b1-1a3f-4df3-98bc-734298dcca0e",
   "metadata": {},
   "source": [
    "# Hi, my name is Summer! Nice to meet you! This is a quick introduction of who I am and what you'll see inside my data science repository."
   ]
  },
  {
   "cell_type": "markdown",
   "id": "608075a1-45f4-4b1d-a8eb-a3169fabc9f0",
   "metadata": {},
   "source": [
    "I started coding January of 2022 and learning about data science and all its amazing branches.\n",
    "My goal is to keep on learning and honing those AWESOME Python, R, and SQL skills to make a difference in the world!\n",
    "Take a look around and see what I've accomplished in my projects.\n",
    "If you are an employer, feel free to send me a message on GitHub and connect with me."
   ]
  },
  {
   "cell_type": "markdown",
   "id": "9c76a89f-34df-4d9a-98ce-93de08ea9b90",
   "metadata": {},
   "source": [
    "### Thanks for being awesome, and have a great day!"
   ]
  }
 ],
 "metadata": {
  "kernelspec": {
   "display_name": "Python 3 (ipykernel)",
   "language": "python",
   "name": "python3"
  },
  "language_info": {
   "codemirror_mode": {
    "name": "ipython",
    "version": 3
   },
   "file_extension": ".py",
   "mimetype": "text/x-python",
   "name": "python",
   "nbconvert_exporter": "python",
   "pygments_lexer": "ipython3",
   "version": "3.10.2"
  }
 },
 "nbformat": 4,
 "nbformat_minor": 5
}
