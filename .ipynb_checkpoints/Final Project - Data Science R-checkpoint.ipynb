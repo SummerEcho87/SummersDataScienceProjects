{
 "cells": [
  {
   "cell_type": "code",
   "execution_count": 1,
   "id": "9a542f95-5440-4770-9e60-2e758c8999d7",
   "metadata": {
    "vscode": {
     "languageId": "r"
    }
   },
   "outputs": [],
   "source": [
    "DS = read.csv(\"C:/Users/Summe/OneDrive/Desktop/ds_salaries.csv\")"
   ]
  },
  {
   "cell_type": "code",
   "execution_count": 72,
   "id": "475f9ac1-ef65-4cd1-858e-cd30e9ee0981",
   "metadata": {
    "jupyter": {
     "source_hidden": true
    },
    "tags": [],
    "vscode": {
     "languageId": "r"
    }
   },
   "outputs": [],
   "source": [
    "library(\"car\")\n",
    "library(\"caret\")\n",
    "library(\"gvlma\")\n",
    "library(\"predictmeans\")\n",
    "library(\"e1071\")\n",
    "library(\"lmtest\")"
   ]
  },
  {
   "cell_type": "code",
   "execution_count": 3,
   "id": "4d52d866-8bcc-43f4-8152-f71b2f1afb4a",
   "metadata": {
    "collapsed": true,
    "jupyter": {
     "outputs_hidden": true,
     "source_hidden": true
    },
    "tags": [],
    "vscode": {
     "languageId": "r"
    }
   },
   "outputs": [
    {
     "name": "stderr",
     "output_type": "stream",
     "text": [
      "\n",
      "Attaching package: 'dplyr'\n",
      "\n",
      "\n",
      "The following objects are masked from 'package:stats':\n",
      "\n",
      "    filter, lag\n",
      "\n",
      "\n",
      "The following objects are masked from 'package:base':\n",
      "\n",
      "    intersect, setdiff, setequal, union\n",
      "\n",
      "\n",
      "Warning message:\n",
      "\"package 'rcompanion' was built under R version 4.1.3\"\n",
      "Warning message:\n",
      "\"package 'car' was built under R version 4.1.3\"\n",
      "Loading required package: carData\n",
      "\n",
      "Warning message:\n",
      "\"package 'carData' was built under R version 4.1.3\"\n",
      "\n",
      "Attaching package: 'car'\n",
      "\n",
      "\n",
      "The following object is masked from 'package:dplyr':\n",
      "\n",
      "    recode\n",
      "\n",
      "\n",
      "Installing package into 'C:/Users/Summe/OneDrive/Documents/R/win-library/4.1'\n",
      "(as 'lib' is unspecified)\n",
      "\n"
     ]
    },
    {
     "name": "stdout",
     "output_type": "stream",
     "text": [
      "package 'ggplot2' successfully unpacked and MD5 sums checked\n",
      "\n",
      "The downloaded binary packages are in\n",
      "\tC:\\Users\\Summe\\AppData\\Local\\Temp\\RtmpK8PjAc\\downloaded_packages\n"
     ]
    },
    {
     "name": "stderr",
     "output_type": "stream",
     "text": [
      "Warning message:\n",
      "\"package 'ggplot2' was built under R version 4.1.3\"\n",
      "Installing package into 'C:/Users/Summe/OneDrive/Documents/R/win-library/4.1'\n",
      "(as 'lib' is unspecified)\n",
      "\n"
     ]
    },
    {
     "name": "stdout",
     "output_type": "stream",
     "text": [
      "package 'mvnormtest' successfully unpacked and MD5 sums checked\n",
      "\n",
      "The downloaded binary packages are in\n",
      "\tC:\\Users\\Summe\\AppData\\Local\\Temp\\RtmpK8PjAc\\downloaded_packages\n"
     ]
    }
   ],
   "source": [
    "library(\"dplyr\")\n",
    "library(\"dplyr\")\n",
    "library(\"rcompanion\")\n",
    "library(\"car\")\n",
    "install.packages(\"ggplot2\")\n",
    "library(\"ggplot2\")\n",
    "library(\"lattice\")\n",
    "install.packages(\"mvnormtest\")\n",
    "library(\"mvnormtest\")"
   ]
  },
  {
   "cell_type": "code",
   "execution_count": 5,
   "id": "74552663-2891-4514-ae7d-21e07e4aa510",
   "metadata": {
    "vscode": {
     "languageId": "r"
    }
   },
   "outputs": [],
   "source": [
    "IN_PERSON <- na.omit(DS %>% filter(remote_ratio %in% c(\"100\")))"
   ]
  },
  {
   "cell_type": "code",
   "execution_count": 7,
   "id": "e1835c9d-979e-4920-843c-13966cb8f27a",
   "metadata": {
    "collapsed": true,
    "jupyter": {
     "outputs_hidden": true
    },
    "tags": [],
    "vscode": {
     "languageId": "r"
    }
   },
   "outputs": [
    {
     "data": {
      "text/html": [
       "<style>\n",
       ".list-inline {list-style: none; margin:0; padding: 0}\n",
       ".list-inline>li {display: inline-block}\n",
       ".list-inline>li:not(:last-child)::after {content: \"\\00b7\"; padding: 0 .5ex}\n",
       "</style>\n",
       "<ol class=list-inline><li>'Data Scientist'</li><li>'Machine Learning Scientist'</li><li>'Big Data Engineer'</li><li>'Product Data Analyst'</li><li>'Machine Learning Engineer'</li><li>'Data Analyst'</li><li>'Lead Data Scientist'</li><li>'Business Data Analyst'</li><li>'Lead Data Engineer'</li><li>'Lead Data Analyst'</li><li>'Data Engineer'</li><li>'Data Science Consultant'</li><li>'BI Data Analyst'</li><li>'Director of Data Science'</li><li>'Research Scientist'</li><li>'Machine Learning Manager'</li><li>'Data Engineering Manager'</li><li>'Machine Learning Infrastructure Engineer'</li><li>'ML Engineer'</li><li>'AI Scientist'</li><li>'Computer Vision Engineer'</li><li>'Principal Data Scientist'</li><li>'Data Science Manager'</li><li>'Head of Data'</li><li>'3D Computer Vision Researcher'</li><li>'Data Analytics Engineer'</li><li>'Applied Data Scientist'</li><li>'Marketing Data Analyst'</li><li>'Cloud Data Engineer'</li><li>'Financial Data Analyst'</li><li>'Computer Vision Software Engineer'</li><li>'Director of Data Engineering'</li><li>'Data Science Engineer'</li><li>'Principal Data Engineer'</li><li>'Machine Learning Developer'</li><li>'Applied Machine Learning Scientist'</li><li>'Data Analytics Manager'</li><li>'Head of Data Science'</li><li>'Data Specialist'</li><li>'Data Architect'</li><li>'Finance Data Analyst'</li><li>'Principal Data Analyst'</li><li>'Big Data Architect'</li><li>'Staff Data Scientist'</li><li>'Analytics Engineer'</li><li>'ETL Developer'</li><li>'Head of Machine Learning'</li><li>'NLP Engineer'</li><li>'Lead Machine Learning Engineer'</li><li>'Data Analytics Lead'</li></ol>\n"
      ],
      "text/latex": [
       "\\begin{enumerate*}\n",
       "\\item 'Data Scientist'\n",
       "\\item 'Machine Learning Scientist'\n",
       "\\item 'Big Data Engineer'\n",
       "\\item 'Product Data Analyst'\n",
       "\\item 'Machine Learning Engineer'\n",
       "\\item 'Data Analyst'\n",
       "\\item 'Lead Data Scientist'\n",
       "\\item 'Business Data Analyst'\n",
       "\\item 'Lead Data Engineer'\n",
       "\\item 'Lead Data Analyst'\n",
       "\\item 'Data Engineer'\n",
       "\\item 'Data Science Consultant'\n",
       "\\item 'BI Data Analyst'\n",
       "\\item 'Director of Data Science'\n",
       "\\item 'Research Scientist'\n",
       "\\item 'Machine Learning Manager'\n",
       "\\item 'Data Engineering Manager'\n",
       "\\item 'Machine Learning Infrastructure Engineer'\n",
       "\\item 'ML Engineer'\n",
       "\\item 'AI Scientist'\n",
       "\\item 'Computer Vision Engineer'\n",
       "\\item 'Principal Data Scientist'\n",
       "\\item 'Data Science Manager'\n",
       "\\item 'Head of Data'\n",
       "\\item '3D Computer Vision Researcher'\n",
       "\\item 'Data Analytics Engineer'\n",
       "\\item 'Applied Data Scientist'\n",
       "\\item 'Marketing Data Analyst'\n",
       "\\item 'Cloud Data Engineer'\n",
       "\\item 'Financial Data Analyst'\n",
       "\\item 'Computer Vision Software Engineer'\n",
       "\\item 'Director of Data Engineering'\n",
       "\\item 'Data Science Engineer'\n",
       "\\item 'Principal Data Engineer'\n",
       "\\item 'Machine Learning Developer'\n",
       "\\item 'Applied Machine Learning Scientist'\n",
       "\\item 'Data Analytics Manager'\n",
       "\\item 'Head of Data Science'\n",
       "\\item 'Data Specialist'\n",
       "\\item 'Data Architect'\n",
       "\\item 'Finance Data Analyst'\n",
       "\\item 'Principal Data Analyst'\n",
       "\\item 'Big Data Architect'\n",
       "\\item 'Staff Data Scientist'\n",
       "\\item 'Analytics Engineer'\n",
       "\\item 'ETL Developer'\n",
       "\\item 'Head of Machine Learning'\n",
       "\\item 'NLP Engineer'\n",
       "\\item 'Lead Machine Learning Engineer'\n",
       "\\item 'Data Analytics Lead'\n",
       "\\end{enumerate*}\n"
      ],
      "text/markdown": [
       "1. 'Data Scientist'\n",
       "2. 'Machine Learning Scientist'\n",
       "3. 'Big Data Engineer'\n",
       "4. 'Product Data Analyst'\n",
       "5. 'Machine Learning Engineer'\n",
       "6. 'Data Analyst'\n",
       "7. 'Lead Data Scientist'\n",
       "8. 'Business Data Analyst'\n",
       "9. 'Lead Data Engineer'\n",
       "10. 'Lead Data Analyst'\n",
       "11. 'Data Engineer'\n",
       "12. 'Data Science Consultant'\n",
       "13. 'BI Data Analyst'\n",
       "14. 'Director of Data Science'\n",
       "15. 'Research Scientist'\n",
       "16. 'Machine Learning Manager'\n",
       "17. 'Data Engineering Manager'\n",
       "18. 'Machine Learning Infrastructure Engineer'\n",
       "19. 'ML Engineer'\n",
       "20. 'AI Scientist'\n",
       "21. 'Computer Vision Engineer'\n",
       "22. 'Principal Data Scientist'\n",
       "23. 'Data Science Manager'\n",
       "24. 'Head of Data'\n",
       "25. '3D Computer Vision Researcher'\n",
       "26. 'Data Analytics Engineer'\n",
       "27. 'Applied Data Scientist'\n",
       "28. 'Marketing Data Analyst'\n",
       "29. 'Cloud Data Engineer'\n",
       "30. 'Financial Data Analyst'\n",
       "31. 'Computer Vision Software Engineer'\n",
       "32. 'Director of Data Engineering'\n",
       "33. 'Data Science Engineer'\n",
       "34. 'Principal Data Engineer'\n",
       "35. 'Machine Learning Developer'\n",
       "36. 'Applied Machine Learning Scientist'\n",
       "37. 'Data Analytics Manager'\n",
       "38. 'Head of Data Science'\n",
       "39. 'Data Specialist'\n",
       "40. 'Data Architect'\n",
       "41. 'Finance Data Analyst'\n",
       "42. 'Principal Data Analyst'\n",
       "43. 'Big Data Architect'\n",
       "44. 'Staff Data Scientist'\n",
       "45. 'Analytics Engineer'\n",
       "46. 'ETL Developer'\n",
       "47. 'Head of Machine Learning'\n",
       "48. 'NLP Engineer'\n",
       "49. 'Lead Machine Learning Engineer'\n",
       "50. 'Data Analytics Lead'\n",
       "\n",
       "\n"
      ],
      "text/plain": [
       " [1] \"Data Scientist\"                          \n",
       " [2] \"Machine Learning Scientist\"              \n",
       " [3] \"Big Data Engineer\"                       \n",
       " [4] \"Product Data Analyst\"                    \n",
       " [5] \"Machine Learning Engineer\"               \n",
       " [6] \"Data Analyst\"                            \n",
       " [7] \"Lead Data Scientist\"                     \n",
       " [8] \"Business Data Analyst\"                   \n",
       " [9] \"Lead Data Engineer\"                      \n",
       "[10] \"Lead Data Analyst\"                       \n",
       "[11] \"Data Engineer\"                           \n",
       "[12] \"Data Science Consultant\"                 \n",
       "[13] \"BI Data Analyst\"                         \n",
       "[14] \"Director of Data Science\"                \n",
       "[15] \"Research Scientist\"                      \n",
       "[16] \"Machine Learning Manager\"                \n",
       "[17] \"Data Engineering Manager\"                \n",
       "[18] \"Machine Learning Infrastructure Engineer\"\n",
       "[19] \"ML Engineer\"                             \n",
       "[20] \"AI Scientist\"                            \n",
       "[21] \"Computer Vision Engineer\"                \n",
       "[22] \"Principal Data Scientist\"                \n",
       "[23] \"Data Science Manager\"                    \n",
       "[24] \"Head of Data\"                            \n",
       "[25] \"3D Computer Vision Researcher\"           \n",
       "[26] \"Data Analytics Engineer\"                 \n",
       "[27] \"Applied Data Scientist\"                  \n",
       "[28] \"Marketing Data Analyst\"                  \n",
       "[29] \"Cloud Data Engineer\"                     \n",
       "[30] \"Financial Data Analyst\"                  \n",
       "[31] \"Computer Vision Software Engineer\"       \n",
       "[32] \"Director of Data Engineering\"            \n",
       "[33] \"Data Science Engineer\"                   \n",
       "[34] \"Principal Data Engineer\"                 \n",
       "[35] \"Machine Learning Developer\"              \n",
       "[36] \"Applied Machine Learning Scientist\"      \n",
       "[37] \"Data Analytics Manager\"                  \n",
       "[38] \"Head of Data Science\"                    \n",
       "[39] \"Data Specialist\"                         \n",
       "[40] \"Data Architect\"                          \n",
       "[41] \"Finance Data Analyst\"                    \n",
       "[42] \"Principal Data Analyst\"                  \n",
       "[43] \"Big Data Architect\"                      \n",
       "[44] \"Staff Data Scientist\"                    \n",
       "[45] \"Analytics Engineer\"                      \n",
       "[46] \"ETL Developer\"                           \n",
       "[47] \"Head of Machine Learning\"                \n",
       "[48] \"NLP Engineer\"                            \n",
       "[49] \"Lead Machine Learning Engineer\"          \n",
       "[50] \"Data Analytics Lead\"                     "
      ]
     },
     "metadata": {},
     "output_type": "display_data"
    }
   ],
   "source": [
    "unique( DS$job_title)"
   ]
  },
  {
   "cell_type": "code",
   "execution_count": 8,
   "id": "47b1f9e6-8709-4584-b1c4-d8de9a20abfb",
   "metadata": {
    "vscode": {
     "languageId": "r"
    }
   },
   "outputs": [
    {
     "data": {
      "text/html": [
       "<style>\n",
       ".list-inline {list-style: none; margin:0; padding: 0}\n",
       ".list-inline>li {display: inline-block}\n",
       ".list-inline>li:not(:last-child)::after {content: \"\\00b7\"; padding: 0 .5ex}\n",
       "</style>\n",
       "<ol class=list-inline><li>2020</li><li>2021</li><li>2022</li></ol>\n"
      ],
      "text/latex": [
       "\\begin{enumerate*}\n",
       "\\item 2020\n",
       "\\item 2021\n",
       "\\item 2022\n",
       "\\end{enumerate*}\n"
      ],
      "text/markdown": [
       "1. 2020\n",
       "2. 2021\n",
       "3. 2022\n",
       "\n",
       "\n"
      ],
      "text/plain": [
       "[1] 2020 2021 2022"
      ]
     },
     "metadata": {},
     "output_type": "display_data"
    }
   ],
   "source": [
    "unique( DS$work_year)"
   ]
  },
  {
   "cell_type": "markdown",
   "id": "a60e064c-1883-47b3-b646-b54f9ab5c8dd",
   "metadata": {},
   "source": [
    "# According to the U.S. Bureau of Labor Statistics, the average data scientist salary is $100,560 a year. Is the mean for this data set significantly different than the figure from the Bureau of Labor?"
   ]
  },
  {
   "cell_type": "code",
   "execution_count": 9,
   "id": "7aacded7-75f1-4c2b-ae83-df158c37f3f5",
   "metadata": {
    "vscode": {
     "languageId": "r"
    }
   },
   "outputs": [
    {
     "name": "stdout",
     "output_type": "stream",
     "text": [
      "\n",
      "\tOne Sample t-test\n",
      "\n",
      "data:  DS$salary_in_usd\n",
      "t = 4.0756, df = 606, p-value = 5.202e-05\n",
      "alternative hypothesis: true mean is not equal to 100560\n",
      "95 percent confidence interval:\n",
      " 106641.7 117954.0\n",
      "sample estimates:\n",
      "mean of x \n",
      " 112297.9 \n",
      "\n"
     ]
    }
   ],
   "source": [
    "t_obj <- t.test(DS$salary_in_usd, mu = 100560)\n",
    "print(t_obj)"
   ]
  },
  {
   "cell_type": "markdown",
   "id": "9290a51f-7d67-463a-85fc-9f5187081acd",
   "metadata": {},
   "source": [
    "**According to the T-test, there is a significant difference. The mean in the data set is $112,298 This is significantly more than $100,560.**"
   ]
  },
  {
   "cell_type": "markdown",
   "id": "882b7f4d-998b-419f-b81b-97546b95d314",
   "metadata": {},
   "source": [
    "# Is there a diffrence in yearly salary amongst the different sized businesses (Small, Medium and Large)? "
   ]
  },
  {
   "cell_type": "markdown",
   "id": "eb1544b8-0f60-435f-902c-fbe332d4247b",
   "metadata": {},
   "source": [
    "Check assumption # 1: Normality. \n",
    "This graph shows our data is positivly skewed so I will run a Tukey transformation to correct skew. "
   ]
  },
  {
   "cell_type": "code",
   "execution_count": 10,
   "id": "6bfe7cf5-acbc-46c0-bcbe-d18b3d51a898",
   "metadata": {
    "tags": [],
    "vscode": {
     "languageId": "r"
    }
   },
   "outputs": [
    {
     "data": {
      "image/png": "[encoded data removed]",
      "text/plain": [
       "Plot with title \"\""
      ]
     },
     "metadata": {
      "image/png": {
       "height": 420,
       "width": 420
      }
     },
     "output_type": "display_data"
    }
   ],
   "source": [
    "plotNormalHistogram(DS$salary_in_usd)"
   ]
  },
  {
   "cell_type": "code",
   "execution_count": 11,
   "id": "d6781f9a-4b7d-4d01-9929-09f919b74447",
   "metadata": {
    "vscode": {
     "languageId": "r"
    }
   },
   "outputs": [
    {
     "name": "stdout",
     "output_type": "stream",
     "text": [
      "\n",
      "    lambda      W Shapiro.p.value\n",
      "418  0.425 0.9893       0.0002035\n",
      "\n",
      "if (lambda >  0){TRANS = x ^ lambda} \n",
      "if (lambda == 0){TRANS = log(x)} \n",
      "if (lambda <  0){TRANS = -1 * x ^ lambda} \n",
      "\n"
     ]
    }
   ],
   "source": [
    "DS$SalaryTUK <- transformTukey(DS$salary_in_usd, plotit=FALSE)"
   ]
  },
  {
   "cell_type": "markdown",
   "id": "5292042f-fec0-45bc-a06f-1b8c90622a9a",
   "metadata": {},
   "source": [
    "plotNormalHistogram(DS$SalaryTUK)"
   ]
  },
  {
   "cell_type": "markdown",
   "id": "34374f58-85a5-40d6-97d2-f453ec77ad1e",
   "metadata": {},
   "source": [
    " **2 - Homogeneity of Variance. Because our data is now evenly distributed I will run the Bartlett test.** "
   ]
  },
  {
   "cell_type": "code",
   "execution_count": 13,
   "id": "48a288ae-4a77-469d-89cf-d89b6a973d3b",
   "metadata": {
    "vscode": {
     "languageId": "r"
    }
   },
   "outputs": [
    {
     "data": {
      "text/plain": [
       "\n",
       "\tBartlett test of homogeneity of variances\n",
       "\n",
       "data:  SalaryTUK by company_size\n",
       "Bartlett's K-squared = 11.075, df = 2, p-value = 0.003936\n"
      ]
     },
     "metadata": {},
     "output_type": "display_data"
    }
   ],
   "source": [
    "bartlett.test(SalaryTUK ~ company_size, data=DS)"
   ]
  },
  {
   "cell_type": "markdown",
   "id": "25648577-e542-4345-be29-9d07fa90356b",
   "metadata": {},
   "source": [
    "The p value associated with this test is < .05, which means that unfortunately,  we violated the assumption of homogeneity of variance"
   ]
  },
  {
   "cell_type": "markdown",
   "id": "2ee0bca5-c0ed-43e5-9061-99c59a8d0857",
   "metadata": {},
   "source": [
    "3 The sample size is alrge enough to proceed."
   ]
  },
  {
   "cell_type": "markdown",
   "id": "9982a7e5-9b49-4965-b716-ec4c41a3fb7f",
   "metadata": {},
   "source": [
    "**Now I will be computing ANOVA with Unequal Variance (Violated Homogeneity of Variance Assumption.**"
   ]
  },
  {
   "cell_type": "code",
   "execution_count": 69,
   "id": "bf4b2cd2-bc36-49de-9551-9ff90c732963",
   "metadata": {
    "vscode": {
     "languageId": "r"
    }
   },
   "outputs": [
    {
     "name": "stderr",
     "output_type": "stream",
     "text": [
      "Coefficient covariances computed by hccm()\n",
      "\n"
     ]
    },
    {
     "data": {
      "text/html": [
       "<table class=\"dataframe\">\n",
       "<caption>A anova: 2 × 3</caption>\n",
       "<thead>\n",
       "\t<tr><th></th><th scope=col>Df</th><th scope=col>F</th><th scope=col>Pr(&gt;F)</th></tr>\n",
       "\t<tr><th></th><th scope=col>&lt;dbl&gt;</th><th scope=col>&lt;dbl&gt;</th><th scope=col>&lt;dbl&gt;</th></tr>\n",
       "</thead>\n",
       "<tbody>\n",
       "\t<tr><th scope=row>company_size</th><td>  2</td><td>16.03403</td><td>1.640857e-07</td></tr>\n",
       "\t<tr><th scope=row>Residuals</th><td>604</td><td>      NA</td><td>          NA</td></tr>\n",
       "</tbody>\n",
       "</table>\n"
      ],
      "text/latex": [
       "A anova: 2 × 3\n",
       "\\begin{tabular}{r|lll}\n",
       "  & Df & F & Pr(>F)\\\\\n",
       "  & <dbl> & <dbl> & <dbl>\\\\\n",
       "\\hline\n",
       "\tcompany\\_size &   2 & 16.03403 & 1.640857e-07\\\\\n",
       "\tResiduals & 604 &       NA &           NA\\\\\n",
       "\\end{tabular}\n"
      ],
      "text/markdown": [
       "\n",
       "A anova: 2 × 3\n",
       "\n",
       "| <!--/--> | Df &lt;dbl&gt; | F &lt;dbl&gt; | Pr(&gt;F) &lt;dbl&gt; |\n",
       "|---|---|---|---|\n",
       "| company_size |   2 | 16.03403 | 1.640857e-07 |\n",
       "| Residuals | 604 |       NA |           NA |\n",
       "\n"
      ],
      "text/plain": [
       "             Df  F        Pr(>F)      \n",
       "company_size   2 16.03403 1.640857e-07\n",
       "Residuals    604       NA           NA"
      ]
     },
     "metadata": {},
     "output_type": "display_data"
    }
   ],
   "source": [
    "ANOVA <- lm(SalaryTUK ~ company_size, data=DS)\n",
    "Anova(ANOVA, Type=\"II\", white.adjust=TRUE)"
   ]
  },
  {
   "cell_type": "markdown",
   "id": "1eae1801-d7eb-48c1-bffe-9f5cd4a87609",
   "metadata": {},
   "source": [
    " **There is a significant difference between the three levels of business size**"
   ]
  },
  {
   "cell_type": "code",
   "execution_count": 17,
   "id": "69f815c6-8563-4afd-81de-35dff5a38033",
   "metadata": {
    "vscode": {
     "languageId": "r"
    }
   },
   "outputs": [
    {
     "data": {
      "text/plain": [
       "\n",
       "\tPairwise comparisons using t tests with non-pooled SD \n",
       "\n",
       "data:  DS$SalaryTUK and DS$company_size \n",
       "\n",
       "  L       M      \n",
       "M 1       -      \n",
       "S 1.3e-05 3.6e-07\n",
       "\n",
       "P value adjustment method: bonferroni "
      ]
     },
     "metadata": {},
     "output_type": "display_data"
    }
   ],
   "source": [
    "pairwise.t.test(DS$SalaryTUK, DS$company_size, p.adjust=\"bonferroni\", pool.sd = FALSE)"
   ]
  },
  {
   "cell_type": "markdown",
   "id": "e994830a-8006-426d-a72d-05feffd2f47f",
   "metadata": {},
   "source": [
    "**There IS a significant difference between large and small business and medium and small business but NOT between large and medium sized businesses.** "
   ]
  },
  {
   "cell_type": "code",
   "execution_count": 18,
   "id": "5c8c260e-efa6-4977-a0e6-b2fcc332767f",
   "metadata": {
    "vscode": {
     "languageId": "r"
    }
   },
   "outputs": [],
   "source": [
    "DSMeans <- DS %>% group_by(company_size) %>% summarize(Mean = mean(SalaryTUK))"
   ]
  },
  {
   "cell_type": "code",
   "execution_count": 19,
   "id": "73476a48-e88b-4975-9e25-af259a6e4b74",
   "metadata": {
    "vscode": {
     "languageId": "r"
    }
   },
   "outputs": [
    {
     "data": {
      "text/html": [
       "<table class=\"dataframe\">\n",
       "<caption>A tibble: 3 × 2</caption>\n",
       "<thead>\n",
       "\t<tr><th scope=col>company_size</th><th scope=col>Mean</th></tr>\n",
       "\t<tr><th scope=col>&lt;chr&gt;</th><th scope=col>&lt;dbl&gt;</th></tr>\n",
       "</thead>\n",
       "<tbody>\n",
       "\t<tr><td>L</td><td>135.6078</td></tr>\n",
       "\t<tr><td>M</td><td>137.2674</td></tr>\n",
       "\t<tr><td>S</td><td>111.2096</td></tr>\n",
       "</tbody>\n",
       "</table>\n"
      ],
      "text/latex": [
       "A tibble: 3 × 2\n",
       "\\begin{tabular}{ll}\n",
       " company\\_size & Mean\\\\\n",
       " <chr> & <dbl>\\\\\n",
       "\\hline\n",
       "\t L & 135.6078\\\\\n",
       "\t M & 137.2674\\\\\n",
       "\t S & 111.2096\\\\\n",
       "\\end{tabular}\n"
      ],
      "text/markdown": [
       "\n",
       "A tibble: 3 × 2\n",
       "\n",
       "| company_size &lt;chr&gt; | Mean &lt;dbl&gt; |\n",
       "|---|---|\n",
       "| L | 135.6078 |\n",
       "| M | 137.2674 |\n",
       "| S | 111.2096 |\n",
       "\n"
      ],
      "text/plain": [
       "  company_size Mean    \n",
       "1 L            135.6078\n",
       "2 M            137.2674\n",
       "3 S            111.2096"
      ]
     },
     "metadata": {},
     "output_type": "display_data"
    }
   ],
   "source": [
    "DSMeans"
   ]
  },
  {
   "cell_type": "code",
   "execution_count": 20,
   "id": "9df5971b-7950-4ca1-b350-f913800cd62b",
   "metadata": {
    "vscode": {
     "languageId": "r"
    }
   },
   "outputs": [],
   "source": [
    "write.csv(DSMeans,\"C:/Users/Summe/Desktop/DSMeans.csv\", row.names = FALSE)"
   ]
  },
  {
   "cell_type": "markdown",
   "id": "925c386b-0f88-4b30-901c-8ed647f3ba66",
   "metadata": {},
   "source": [
    "**Looking at our means confirms this. The average usd salary for employees of large and medium sized businesses is very close at 136 and 137 thousand. Whereas the average salary for a small business is only 111 thousand.**"
   ]
  },
  {
   "cell_type": "markdown",
   "id": "7c0718fe-d14e-4a06-8dde-4dc36e95c5ed",
   "metadata": {},
   "source": [
    "# How does salary change within the experience levels of Entry, Junior, Expert and Director? "
   ]
  },
  {
   "cell_type": "code",
   "execution_count": 21,
   "id": "b9cba1ef-e543-45b3-9a8f-6c99758587da",
   "metadata": {
    "vscode": {
     "languageId": "r"
    }
   },
   "outputs": [
    {
     "data": {
      "text/html": [
       "<style>\n",
       ".list-inline {list-style: none; margin:0; padding: 0}\n",
       ".list-inline>li {display: inline-block}\n",
       ".list-inline>li:not(:last-child)::after {content: \"\\00b7\"; padding: 0 .5ex}\n",
       "</style>\n",
       "<ol class=list-inline><li>'MI'</li><li>'SE'</li><li>'EN'</li><li>'EX'</li></ol>\n"
      ],
      "text/latex": [
       "\\begin{enumerate*}\n",
       "\\item 'MI'\n",
       "\\item 'SE'\n",
       "\\item 'EN'\n",
       "\\item 'EX'\n",
       "\\end{enumerate*}\n"
      ],
      "text/markdown": [
       "1. 'MI'\n",
       "2. 'SE'\n",
       "3. 'EN'\n",
       "4. 'EX'\n",
       "\n",
       "\n"
      ],
      "text/plain": [
       "[1] \"MI\" \"SE\" \"EN\" \"EX\""
      ]
     },
     "metadata": {},
     "output_type": "display_data"
    }
   ],
   "source": [
    "unique( DS$experience_level)"
   ]
  },
  {
   "cell_type": "markdown",
   "id": "6984cdd2-e7ff-4f2f-a6b2-6c5399959dc7",
   "metadata": {},
   "source": [
    "**EN Entry-level / Junior MI Mid-level / Intermediate SE Senior-level / Expert EX Executive-level / Director**"
   ]
  },
  {
   "cell_type": "code",
   "execution_count": 22,
   "id": "07d113b1-42cf-484a-9115-7644b0f45cc4",
   "metadata": {
    "vscode": {
     "languageId": "r"
    }
   },
   "outputs": [
    {
     "data": {
      "text/plain": [
       "\n",
       "\tBartlett test of homogeneity of variances\n",
       "\n",
       "data:  SalaryTUK by experience_level\n",
       "Bartlett's K-squared = 19.479, df = 3, p-value = 0.0002176\n"
      ]
     },
     "metadata": {},
     "output_type": "display_data"
    }
   ],
   "source": [
    "bartlett.test(SalaryTUK ~ experience_level, data=DS)"
   ]
  },
  {
   "cell_type": "markdown",
   "id": "9045b294-32d4-47c4-a150-2dadf58a72f0",
   "metadata": {},
   "source": [
    "The p value associated with this test is < .05, which means that unfortunately,  we violated the assumption of homogeneity of variance"
   ]
  },
  {
   "cell_type": "code",
   "execution_count": 23,
   "id": "735272a7-f41f-4d12-94ff-1c2677ac8032",
   "metadata": {
    "vscode": {
     "languageId": "r"
    }
   },
   "outputs": [
    {
     "name": "stderr",
     "output_type": "stream",
     "text": [
      "Coefficient covariances computed by hccm()\n",
      "\n"
     ]
    },
    {
     "data": {
      "text/html": [
       "<table class=\"dataframe\">\n",
       "<caption>A anova: 2 × 3</caption>\n",
       "<thead>\n",
       "\t<tr><th></th><th scope=col>Df</th><th scope=col>F</th><th scope=col>Pr(&gt;F)</th></tr>\n",
       "\t<tr><th></th><th scope=col>&lt;dbl&gt;</th><th scope=col>&lt;dbl&gt;</th><th scope=col>&lt;dbl&gt;</th></tr>\n",
       "</thead>\n",
       "<tbody>\n",
       "\t<tr><th scope=row>experience_level</th><td>  3</td><td>76.92375</td><td>3.851191e-42</td></tr>\n",
       "\t<tr><th scope=row>Residuals</th><td>603</td><td>      NA</td><td>          NA</td></tr>\n",
       "</tbody>\n",
       "</table>\n"
      ],
      "text/latex": [
       "A anova: 2 × 3\n",
       "\\begin{tabular}{r|lll}\n",
       "  & Df & F & Pr(>F)\\\\\n",
       "  & <dbl> & <dbl> & <dbl>\\\\\n",
       "\\hline\n",
       "\texperience\\_level &   3 & 76.92375 & 3.851191e-42\\\\\n",
       "\tResiduals & 603 &       NA &           NA\\\\\n",
       "\\end{tabular}\n"
      ],
      "text/markdown": [
       "\n",
       "A anova: 2 × 3\n",
       "\n",
       "| <!--/--> | Df &lt;dbl&gt; | F &lt;dbl&gt; | Pr(&gt;F) &lt;dbl&gt; |\n",
       "|---|---|---|---|\n",
       "| experience_level |   3 | 76.92375 | 3.851191e-42 |\n",
       "| Residuals | 603 |       NA |           NA |\n",
       "\n"
      ],
      "text/plain": [
       "                 Df  F        Pr(>F)      \n",
       "experience_level   3 76.92375 3.851191e-42\n",
       "Residuals        603       NA           NA"
      ]
     },
     "metadata": {},
     "output_type": "display_data"
    }
   ],
   "source": [
    "ANOVA <- lm(SalaryTUK ~ experience_level, data=DS)\n",
    "Anova(ANOVA, Type=\"II\", white.adjust=TRUE)"
   ]
  },
  {
   "cell_type": "code",
   "execution_count": 24,
   "id": "7e771346-c37d-4255-8a1e-5e9a3bfe7234",
   "metadata": {
    "vscode": {
     "languageId": "r"
    }
   },
   "outputs": [
    {
     "data": {
      "text/plain": [
       "\n",
       "\tPairwise comparisons using t tests with non-pooled SD \n",
       "\n",
       "data:  DS$SalaryTUK and DS$experience_level \n",
       "\n",
       "   EN      EX      MI     \n",
       "EX 4.5e-09 -       -      \n",
       "MI 0.00033 2.0e-06 -      \n",
       "SE < 2e-16 0.04747 < 2e-16\n",
       "\n",
       "P value adjustment method: bonferroni "
      ]
     },
     "metadata": {},
     "output_type": "display_data"
    }
   ],
   "source": [
    "pairwise.t.test(DS$SalaryTUK, DS$experience_level, p.adjust=\"bonferroni\", pool.sd = FALSE)"
   ]
  },
  {
   "cell_type": "markdown",
   "id": "5dad281d-74e2-4aca-9648-4fd8dda2d6ce",
   "metadata": {},
   "source": [
    "**Sig difference between ALL levels.** "
   ]
  },
  {
   "cell_type": "code",
   "execution_count": 25,
   "id": "8c34c125-6e29-408b-9041-f3af37669989",
   "metadata": {
    "vscode": {
     "languageId": "r"
    }
   },
   "outputs": [],
   "source": [
    "DSMeans2 <- DS %>% group_by(experience_level) %>% summarize(Mean = mean(SalaryTUK))"
   ]
  },
  {
   "cell_type": "code",
   "execution_count": 26,
   "id": "d4b5863b-08fe-4bd2-949a-f1b20b590da2",
   "metadata": {
    "vscode": {
     "languageId": "r"
    }
   },
   "outputs": [
    {
     "data": {
      "text/html": [
       "<table class=\"dataframe\">\n",
       "<caption>A tibble: 4 × 2</caption>\n",
       "<thead>\n",
       "\t<tr><th scope=col>experience_level</th><th scope=col>Mean</th></tr>\n",
       "\t<tr><th scope=col>&lt;chr&gt;</th><th scope=col>&lt;dbl&gt;</th></tr>\n",
       "</thead>\n",
       "<tbody>\n",
       "\t<tr><td>EN</td><td>101.5623</td></tr>\n",
       "\t<tr><td>EX</td><td>172.8185</td></tr>\n",
       "\t<tr><td>MI</td><td>119.4151</td></tr>\n",
       "\t<tr><td>SE</td><td>149.8705</td></tr>\n",
       "</tbody>\n",
       "</table>\n"
      ],
      "text/latex": [
       "A tibble: 4 × 2\n",
       "\\begin{tabular}{ll}\n",
       " experience\\_level & Mean\\\\\n",
       " <chr> & <dbl>\\\\\n",
       "\\hline\n",
       "\t EN & 101.5623\\\\\n",
       "\t EX & 172.8185\\\\\n",
       "\t MI & 119.4151\\\\\n",
       "\t SE & 149.8705\\\\\n",
       "\\end{tabular}\n"
      ],
      "text/markdown": [
       "\n",
       "A tibble: 4 × 2\n",
       "\n",
       "| experience_level &lt;chr&gt; | Mean &lt;dbl&gt; |\n",
       "|---|---|\n",
       "| EN | 101.5623 |\n",
       "| EX | 172.8185 |\n",
       "| MI | 119.4151 |\n",
       "| SE | 149.8705 |\n",
       "\n"
      ],
      "text/plain": [
       "  experience_level Mean    \n",
       "1 EN               101.5623\n",
       "2 EX               172.8185\n",
       "3 MI               119.4151\n",
       "4 SE               149.8705"
      ]
     },
     "metadata": {},
     "output_type": "display_data"
    }
   ],
   "source": [
    "DSMeans2"
   ]
  },
  {
   "cell_type": "code",
   "execution_count": 27,
   "id": "408bdaf1-0e7c-4951-9e3e-17306b7e3aca",
   "metadata": {
    "vscode": {
     "languageId": "r"
    }
   },
   "outputs": [],
   "source": [
    "write.csv(DSMeans2,\"C:/Users/Summe/Desktop/DSMeans2.csv\", row.names = FALSE)"
   ]
  },
  {
   "cell_type": "markdown",
   "id": "cac5fa18-8a6b-4322-85e2-b21132b568a3",
   "metadata": {},
   "source": [
    "# How has salary changed over the last three years (2020,2021,2022)?"
   ]
  },
  {
   "cell_type": "code",
   "execution_count": 28,
   "id": "f29c71f2-1345-430a-8567-6522ea5067a1",
   "metadata": {
    "vscode": {
     "languageId": "r"
    }
   },
   "outputs": [
    {
     "data": {
      "text/plain": [
       "\n",
       "\tBartlett test of homogeneity of variances\n",
       "\n",
       "data:  SalaryTUK by work_year\n",
       "Bartlett's K-squared = 36.824, df = 2, p-value = 1.009e-08\n"
      ]
     },
     "metadata": {},
     "output_type": "display_data"
    }
   ],
   "source": [
    "bartlett.test(SalaryTUK ~ work_year, data=DS)"
   ]
  },
  {
   "cell_type": "code",
   "execution_count": 29,
   "id": "246eb720-95a3-46ba-be22-ffdbc6f73655",
   "metadata": {
    "vscode": {
     "languageId": "r"
    }
   },
   "outputs": [
    {
     "name": "stderr",
     "output_type": "stream",
     "text": [
      "Coefficient covariances computed by hccm()\n",
      "\n"
     ]
    },
    {
     "data": {
      "text/html": [
       "<table class=\"dataframe\">\n",
       "<caption>A anova: 2 × 3</caption>\n",
       "<thead>\n",
       "\t<tr><th></th><th scope=col>Df</th><th scope=col>F</th><th scope=col>Pr(&gt;F)</th></tr>\n",
       "\t<tr><th></th><th scope=col>&lt;dbl&gt;</th><th scope=col>&lt;dbl&gt;</th><th scope=col>&lt;dbl&gt;</th></tr>\n",
       "</thead>\n",
       "<tbody>\n",
       "\t<tr><th scope=row>work_year</th><td>  1</td><td>32.32663</td><td>2.028939e-08</td></tr>\n",
       "\t<tr><th scope=row>Residuals</th><td>605</td><td>      NA</td><td>          NA</td></tr>\n",
       "</tbody>\n",
       "</table>\n"
      ],
      "text/latex": [
       "A anova: 2 × 3\n",
       "\\begin{tabular}{r|lll}\n",
       "  & Df & F & Pr(>F)\\\\\n",
       "  & <dbl> & <dbl> & <dbl>\\\\\n",
       "\\hline\n",
       "\twork\\_year &   1 & 32.32663 & 2.028939e-08\\\\\n",
       "\tResiduals & 605 &       NA &           NA\\\\\n",
       "\\end{tabular}\n"
      ],
      "text/markdown": [
       "\n",
       "A anova: 2 × 3\n",
       "\n",
       "| <!--/--> | Df &lt;dbl&gt; | F &lt;dbl&gt; | Pr(&gt;F) &lt;dbl&gt; |\n",
       "|---|---|---|---|\n",
       "| work_year |   1 | 32.32663 | 2.028939e-08 |\n",
       "| Residuals | 605 |       NA |           NA |\n",
       "\n"
      ],
      "text/plain": [
       "          Df  F        Pr(>F)      \n",
       "work_year   1 32.32663 2.028939e-08\n",
       "Residuals 605       NA           NA"
      ]
     },
     "metadata": {},
     "output_type": "display_data"
    }
   ],
   "source": [
    "ANOVA <- lm(SalaryTUK ~ work_year, data=DS)\n",
    "Anova(ANOVA, Type=\"II\", white.adjust=TRUE)"
   ]
  },
  {
   "cell_type": "code",
   "execution_count": 30,
   "id": "c1f02b2b-eacb-4276-9410-97208d526a8e",
   "metadata": {
    "vscode": {
     "languageId": "r"
    }
   },
   "outputs": [
    {
     "data": {
      "text/plain": [
       "\n",
       "\tPairwise comparisons using t tests with non-pooled SD \n",
       "\n",
       "data:  DS$SalaryTUK and DS$work_year \n",
       "\n",
       "     2020    2021   \n",
       "2021 1.00000 -      \n",
       "2022 0.00048 2.2e-07\n",
       "\n",
       "P value adjustment method: bonferroni "
      ]
     },
     "metadata": {},
     "output_type": "display_data"
    }
   ],
   "source": [
    "pairwise.t.test(DS$SalaryTUK, DS$work_year, p.adjust=\"bonferroni\", pool.sd = FALSE)"
   ]
  },
  {
   "cell_type": "code",
   "execution_count": 31,
   "id": "5b9c4f62-e710-46b4-92da-7f21fd21c595",
   "metadata": {
    "vscode": {
     "languageId": "r"
    }
   },
   "outputs": [],
   "source": [
    "DSMeans3 <- DS %>% group_by(work_year) %>% summarize(Mean = mean(salary_in_usd))"
   ]
  },
  {
   "cell_type": "code",
   "execution_count": 32,
   "id": "6e0fb51a-9c50-4704-84b3-5be2542ac7a7",
   "metadata": {
    "vscode": {
     "languageId": "r"
    }
   },
   "outputs": [
    {
     "data": {
      "text/html": [
       "<table class=\"dataframe\">\n",
       "<caption>A tibble: 3 × 2</caption>\n",
       "<thead>\n",
       "\t<tr><th scope=col>work_year</th><th scope=col>Mean</th></tr>\n",
       "\t<tr><th scope=col>&lt;int&gt;</th><th scope=col>&lt;dbl&gt;</th></tr>\n",
       "</thead>\n",
       "<tbody>\n",
       "\t<tr><td>2020</td><td> 95813.00</td></tr>\n",
       "\t<tr><td>2021</td><td> 99853.79</td></tr>\n",
       "\t<tr><td>2022</td><td>124522.01</td></tr>\n",
       "</tbody>\n",
       "</table>\n"
      ],
      "text/latex": [
       "A tibble: 3 × 2\n",
       "\\begin{tabular}{ll}\n",
       " work\\_year & Mean\\\\\n",
       " <int> & <dbl>\\\\\n",
       "\\hline\n",
       "\t 2020 &  95813.00\\\\\n",
       "\t 2021 &  99853.79\\\\\n",
       "\t 2022 & 124522.01\\\\\n",
       "\\end{tabular}\n"
      ],
      "text/markdown": [
       "\n",
       "A tibble: 3 × 2\n",
       "\n",
       "| work_year &lt;int&gt; | Mean &lt;dbl&gt; |\n",
       "|---|---|\n",
       "| 2020 |  95813.00 |\n",
       "| 2021 |  99853.79 |\n",
       "| 2022 | 124522.01 |\n",
       "\n"
      ],
      "text/plain": [
       "  work_year Mean     \n",
       "1 2020       95813.00\n",
       "2 2021       99853.79\n",
       "3 2022      124522.01"
      ]
     },
     "metadata": {},
     "output_type": "display_data"
    }
   ],
   "source": [
    "DSMeans3"
   ]
  },
  {
   "cell_type": "code",
   "execution_count": 33,
   "id": "926ec2ea-9dbe-41a5-90a8-ffbd45f5a71c",
   "metadata": {
    "vscode": {
     "languageId": "r"
    }
   },
   "outputs": [],
   "source": [
    "write.csv(DSMeans3,\"C:/Users/Summe/Desktop/DSMeans3.csv\", row.names = FALSE)"
   ]
  },
  {
   "cell_type": "markdown",
   "id": "d4e0aef3-cc19-4894-b093-4ade73d16283",
   "metadata": {
    "vscode": {
     "languageId": "r"
    }
   },
   "source": [
    "**No sig dif from 20 to 21 but a sig dif from 21 to 22**"
   ]
  },
  {
   "cell_type": "markdown",
   "id": "5c9cc40a-cc00-48d9-bc64-8af66f34ee6c",
   "metadata": {},
   "source": [
    "# Linear Association between Salary and Year"
   ]
  },
  {
   "cell_type": "code",
   "execution_count": 73,
   "id": "4a31910c-348c-412b-83f1-c0172b2a5b89",
   "metadata": {
    "collapsed": true,
    "jupyter": {
     "outputs_hidden": true
    },
    "tags": [],
    "vscode": {
     "languageId": "r"
    }
   },
   "outputs": [
    {
     "name": "stderr",
     "output_type": "stream",
     "text": [
      "Warning message in simpleLoess(y, x, w, span, degree = degree, parametric = FALSE, :\n",
      "\"pseudoinverse used at 2022\"\n",
      "Warning message in simpleLoess(y, x, w, span, degree = degree, parametric = FALSE, :\n",
      "\"neighborhood radius 1.01\"\n",
      "Warning message in simpleLoess(y, x, w, span, degree = degree, parametric = FALSE, :\n",
      "\"reciprocal condition number  0\"\n",
      "Warning message in simpleLoess(y, x, w, span, degree = degree, parametric = FALSE, :\n",
      "\"There are other near singularities as well. 1\"\n",
      "Warning message in simpleLoess(y, x, w, span, degree = degree, parametric = FALSE, :\n",
      "\"pseudoinverse used at 2022\"\n",
      "Warning message in simpleLoess(y, x, w, span, degree = degree, parametric = FALSE, :\n",
      "\"neighborhood radius 1.01\"\n",
      "Warning message in simpleLoess(y, x, w, span, degree = degree, parametric = FALSE, :\n",
      "\"reciprocal condition number  0\"\n",
      "Warning message in simpleLoess(y, x, w, span, degree = degree, parametric = FALSE, :\n",
      "\"There are other near singularities as well. 1\"\n",
      "Warning message in simpleLoess(y, x, w, span, degree = degree, parametric = FALSE, :\n",
      "\"pseudoinverse used at 2022\"\n",
      "Warning message in simpleLoess(y, x, w, span, degree = degree, parametric = FALSE, :\n",
      "\"neighborhood radius 1.01\"\n",
      "Warning message in simpleLoess(y, x, w, span, degree = degree, parametric = FALSE, :\n",
      "\"reciprocal condition number  0\"\n",
      "Warning message in simpleLoess(y, x, w, span, degree = degree, parametric = FALSE, :\n",
      "\"There are other near singularities as well. 1\"\n",
      "Warning message in simpleLoess(y, x, w, span, degree = degree, parametric = FALSE, :\n",
      "\"pseudoinverse used at 2022\"\n",
      "Warning message in simpleLoess(y, x, w, span, degree = degree, parametric = FALSE, :\n",
      "\"neighborhood radius 1.01\"\n",
      "Warning message in simpleLoess(y, x, w, span, degree = degree, parametric = FALSE, :\n",
      "\"reciprocal condition number  0\"\n",
      "Warning message in simpleLoess(y, x, w, span, degree = degree, parametric = FALSE, :\n",
      "\"There are other near singularities as well. 1\"\n",
      "Warning message in simpleLoess(y, x, w, span, degree = degree, parametric = FALSE, :\n",
      "\"pseudoinverse used at 2022\"\n",
      "Warning message in simpleLoess(y, x, w, span, degree = degree, parametric = FALSE, :\n",
      "\"neighborhood radius 1.01\"\n",
      "Warning message in simpleLoess(y, x, w, span, degree = degree, parametric = FALSE, :\n",
      "\"reciprocal condition number  0\"\n",
      "Warning message in simpleLoess(y, x, w, span, degree = degree, parametric = FALSE, :\n",
      "\"There are other near singularities as well. 1\"\n"
     ]
    },
    {
     "data": {
      "image/png": "[encoded data removed]",
      "text/plain": [
       "Plot with title \"Salary By Year\""
      ]
     },
     "metadata": {
      "image/png": {
       "height": 420,
       "width": 420
      }
     },
     "output_type": "display_data"
    }
   ],
   "source": [
    "scatter.smooth(x=DS$work_year, y=DS$salary_in_usd, main=\"Salary By Year\")"
   ]
  },
  {
   "cell_type": "markdown",
   "id": "be86f3ac-ccd1-446e-9f2c-05877d52bf24",
   "metadata": {},
   "source": [
    "**Create Linear Model**"
   ]
  },
  {
   "cell_type": "code",
   "execution_count": 36,
   "id": "d25f2d3a-3a3d-42e6-8bf2-1aa8ca2a5fba",
   "metadata": {
    "vscode": {
     "languageId": "r"
    }
   },
   "outputs": [],
   "source": [
    "lmMod <- lm(salary_in_usd~work_year, data=DS)"
   ]
  },
  {
   "cell_type": "code",
   "execution_count": 37,
   "id": "38f8f03c-6c2d-47af-b2cb-2c959cc6add8",
   "metadata": {
    "vscode": {
     "languageId": "r"
    }
   },
   "outputs": [
    {
     "data": {
      "text/plain": [
       "\n",
       "Call:\n",
       "lm(formula = salary_in_usd ~ work_year, data = DS)\n",
       "\n",
       "Coefficients:\n",
       "(Intercept)    work_year  \n",
       "  -35219689        17479  \n"
      ]
     },
     "metadata": {},
     "output_type": "display_data"
    }
   ],
   "source": [
    "lmMod"
   ]
  },
  {
   "cell_type": "code",
   "execution_count": 38,
   "id": "d791769d-4899-43b1-88d5-1979d9cf3ec0",
   "metadata": {
    "vscode": {
     "languageId": "r"
    }
   },
   "outputs": [
    {
     "data": {
      "image/png": "[encoded data removed]",
      "text/plain": [
       "Plot with title \"\""
      ]
     },
     "metadata": {
      "image/png": {
       "height": 420,
       "width": 420
      }
     },
     "output_type": "display_data"
    }
   ],
   "source": [
    "par(mfrow=c(2,2))\n",
    "plot(lmMod)"
   ]
  },
  {
   "cell_type": "markdown",
   "id": "1e6291b8-d4b7-439f-9868-f375594867eb",
   "metadata": {},
   "source": [
    " Testing for Homoscedasticity"
   ]
  },
  {
   "cell_type": "code",
   "execution_count": 39,
   "id": "e35ee3d6-9b52-48c3-b559-527163915f4b",
   "metadata": {
    "vscode": {
     "languageId": "r"
    }
   },
   "outputs": [
    {
     "data": {
      "text/plain": [
       "\n",
       "\tstudentized Breusch-Pagan test\n",
       "\n",
       "data:  lmMod\n",
       "BP = 5.729, df = 1, p-value = 0.01669\n"
      ]
     },
     "metadata": {},
     "output_type": "display_data"
    }
   ],
   "source": [
    "lmtest::bptest(lmMod)"
   ]
  },
  {
   "cell_type": "markdown",
   "id": "ee4c9054-6df9-4edf-95c6-b20ef095a7e7",
   "metadata": {},
   "source": [
    "Since the p-value is less than .05, it means it is significant, and having a significant Breush-Pagan test means that I unfortunately have heteroscedasticity."
   ]
  },
  {
   "cell_type": "markdown",
   "id": "b1f5c16c-b41c-485f-9935-d77f949d24be",
   "metadata": {},
   "source": [
    "Correcting for Homoscedasticity Violations"
   ]
  },
  {
   "cell_type": "code",
   "execution_count": 40,
   "id": "e469721f-583f-42b9-8e3b-38036d7cf1a8",
   "metadata": {
    "vscode": {
     "languageId": "r"
    }
   },
   "outputs": [
    {
     "name": "stdout",
     "output_type": "stream",
     "text": [
      "Box-Cox Transformation\n",
      "\n",
      "607 data points used to estimate Lambda\n",
      "\n",
      "Input data summary:\n",
      "   Min. 1st Qu.  Median    Mean 3rd Qu.    Max. \n",
      "   2859   62726  101570  112298  150000  600000 \n",
      "\n",
      "Largest/Smallest: 210 \n",
      "Sample Skewness: 1.66 \n",
      "\n",
      "Estimated Lambda: 0.4 \n",
      "\n"
     ]
    }
   ],
   "source": [
    "distBCMod1 <- caret::BoxCoxTrans(DS$salary_in_usd)\n",
    "print(distBCMod1)"
   ]
  },
  {
   "cell_type": "code",
   "execution_count": 41,
   "id": "604115a2-67b9-40ac-ad3a-8c0ce05f5814",
   "metadata": {
    "vscode": {
     "languageId": "r"
    }
   },
   "outputs": [],
   "source": [
    "DS <- cbind(DS, dist_newM=predict(distBCMod1, DS$salary_in_usd))"
   ]
  },
  {
   "cell_type": "code",
   "execution_count": 74,
   "id": "67b0b426-a68c-4a96-885e-0b4d9af82b21",
   "metadata": {
    "vscode": {
     "languageId": "r"
    }
   },
   "outputs": [
    {
     "data": {
      "text/plain": [
       "\n",
       "\tstudentized Breusch-Pagan test\n",
       "\n",
       "data:  lmMod_bc2\n",
       "BP = 20.07, df = 1, p-value = 7.466e-06\n"
      ]
     },
     "metadata": {},
     "output_type": "display_data"
    }
   ],
   "source": [
    "lmMod_bc2 <- lm(dist_newM~work_year, data=DS)\n",
    "lmtest::bptest(lmMod_bc2)"
   ]
  },
  {
   "cell_type": "markdown",
   "id": "d11113a5-d854-4d06-840e-a56b66f77192",
   "metadata": {},
   "source": [
    "Testing for Homogeneity of Variance"
   ]
  },
  {
   "cell_type": "code",
   "execution_count": 43,
   "id": "0868563c-208e-48e0-a80c-2f0a3b02e6d3",
   "metadata": {
    "vscode": {
     "languageId": "r"
    }
   },
   "outputs": [
    {
     "data": {
      "image/png": "[encoded data removed]",
      "text/plain": [
       "Plot with title \"\""
      ]
     },
     "metadata": {
      "image/png": {
       "height": 420,
       "width": 420
      }
     },
     "output_type": "display_data"
    }
   ],
   "source": [
    "par(mfrow=c(2,2))\n",
    "plot(lmMod)"
   ]
  },
  {
   "cell_type": "markdown",
   "id": "ab1d6b14-bf59-41f4-8760-216b99a84842",
   "metadata": {},
   "source": [
    "Assumption met. "
   ]
  },
  {
   "cell_type": "code",
   "execution_count": 44,
   "id": "8b761a54-51e7-406f-8be1-c4642a91b0ae",
   "metadata": {
    "vscode": {
     "languageId": "r"
    }
   },
   "outputs": [
    {
     "data": {
      "text/plain": [
       "\n",
       "Call:\n",
       "lm(formula = dist_newM ~ work_year, data = DS)\n",
       "\n",
       "Residuals:\n",
       "     Min       1Q   Median       3Q      Max \n",
       "-179.444  -37.414    2.079   41.456  272.159 \n",
       "\n",
       "Coefficients:\n",
       "              Estimate Std. Error t value Pr(>|t|)    \n",
       "(Intercept) -46235.681   7703.433  -6.002 3.36e-09 ***\n",
       "work_year       22.995      3.811   6.034 2.79e-09 ***\n",
       "---\n",
       "Signif. codes:  0 '***' 0.001 '**' 0.01 '*' 0.05 '.' 0.1 ' ' 1\n",
       "\n",
       "Residual standard error: 64.93 on 605 degrees of freedom\n",
       "Multiple R-squared:  0.05676,\tAdjusted R-squared:  0.0552 \n",
       "F-statistic: 36.41 on 1 and 605 DF,  p-value: 2.789e-09\n"
      ]
     },
     "metadata": {},
     "output_type": "display_data"
    }
   ],
   "source": [
    "summary(lmMod_bc2)"
   ]
  },
  {
   "cell_type": "markdown",
   "id": "83d52d4c-67e5-427d-868b-4a8ace329e84",
   "metadata": {},
   "source": [
    " Reject the null hypothesis, since the p value is less than .05. There is sufficient evidence to suggest that there is a linear relationship between salary and year. "
   ]
  },
  {
   "cell_type": "code",
   "execution_count": 45,
   "id": "8312a903-2f5c-4e47-9c2e-412fed4ea71f",
   "metadata": {
    "vscode": {
     "languageId": "r"
    }
   },
   "outputs": [
    {
     "data": {
      "text/plain": [
       "\n",
       "Call:\n",
       "lm(formula = salary_in_usd ~ work_year, data = DS)\n",
       "\n",
       "Coefficients:\n",
       "(Intercept)    work_year  \n",
       "  -35219689        17479  \n"
      ]
     },
     "metadata": {},
     "output_type": "display_data"
    }
   ],
   "source": [
    "lm(formula = salary_in_usd ~ work_year, data = DS)"
   ]
  },
  {
   "cell_type": "code",
   "execution_count": 46,
   "id": "5ac89392-78ff-4391-8721-753903f49578",
   "metadata": {
    "collapsed": true,
    "jupyter": {
     "outputs_hidden": true
    },
    "tags": [],
    "vscode": {
     "languageId": "r"
    }
   },
   "outputs": [
    {
     "name": "stdout",
     "output_type": "stream",
     "text": [
      "Potentially influential observations of\n",
      "\t lm(formula = salary_in_usd ~ work_year, data = DS) :\n",
      "\n",
      "    dfb.1_ dfb.wrk_ dffit   cov.r   cook.d hat  \n",
      "1   -0.01   0.01    -0.01    1.01_*  0.00   0.01\n",
      "2    0.21  -0.21     0.23_*  0.99    0.03   0.01\n",
      "3    0.03  -0.03     0.03    1.01_*  0.00   0.01\n",
      "6   -0.02   0.02    -0.02    1.01_*  0.00   0.01\n",
      "8   -0.06   0.06    -0.07    1.01_*  0.00   0.01\n",
      "9    0.06  -0.06     0.06    1.01_*  0.00   0.01\n",
      "10   0.04  -0.04     0.05    1.01_*  0.00   0.01\n",
      "11  -0.04   0.04    -0.05    1.01_*  0.00   0.01\n",
      "12  -0.06   0.06    -0.06    1.01_*  0.00   0.01\n",
      "13  -0.06   0.06    -0.06    1.01_*  0.00   0.01\n",
      "14   0.00   0.00     0.00    1.01_*  0.00   0.01\n",
      "15   0.00   0.00     0.00    1.01_*  0.00   0.01\n",
      "17  -0.05   0.05    -0.06    1.01_*  0.00   0.01\n",
      "18   0.03  -0.03     0.03    1.01_*  0.00   0.01\n",
      "20  -0.04   0.04    -0.04    1.01_*  0.00   0.01\n",
      "21  -0.05   0.05    -0.06    1.01_*  0.00   0.01\n",
      "23  -0.05   0.05    -0.05    1.01_*  0.00   0.01\n",
      "24   0.01  -0.01     0.01    1.01_*  0.00   0.01\n",
      "25   0.03  -0.03     0.04    1.01_*  0.00   0.01\n",
      "26   0.28  -0.28     0.32_*  0.97_*  0.05   0.01\n",
      "27  -0.05   0.05    -0.06    1.01_*  0.00   0.01\n",
      "29   0.01  -0.01     0.02    1.01_*  0.00   0.01\n",
      "30   0.03  -0.03     0.04    1.01_*  0.00   0.01\n",
      "31  -0.03   0.03    -0.04    1.01_*  0.00   0.01\n",
      "32  -0.02   0.02    -0.02    1.01_*  0.00   0.01\n",
      "33  -0.02   0.02    -0.03    1.01_*  0.00   0.01\n",
      "34   0.44  -0.44     0.49_*  0.92_*  0.12   0.01\n",
      "35  -0.05   0.05    -0.05    1.01_*  0.00   0.01\n",
      "36  -0.02   0.02    -0.02    1.01_*  0.00   0.01\n",
      "37   0.02  -0.02     0.02    1.01_*  0.00   0.01\n",
      "38   0.19  -0.19     0.22_*  0.99    0.02   0.01\n",
      "40   0.06  -0.06     0.07    1.01_*  0.00   0.01\n",
      "41  -0.05   0.05    -0.06    1.01_*  0.00   0.01\n",
      "42  -0.01   0.01    -0.01    1.01_*  0.00   0.01\n",
      "43  -0.04   0.04    -0.05    1.01_*  0.00   0.01\n",
      "44   0.02  -0.02     0.02    1.01_*  0.00   0.01\n",
      "45   0.03  -0.03     0.03    1.01_*  0.00   0.01\n",
      "47  -0.01   0.01    -0.01    1.01_*  0.00   0.01\n",
      "49   0.02  -0.02     0.02    1.01_*  0.00   0.01\n",
      "50  -0.02   0.02    -0.02    1.01_*  0.00   0.01\n",
      "52   0.00   0.00     0.00    1.01_*  0.00   0.01\n",
      "53  -0.05   0.05    -0.06    1.01_*  0.00   0.01\n",
      "54  -0.04   0.04    -0.04    1.01_*  0.00   0.01\n",
      "55  -0.03   0.03    -0.04    1.01_*  0.00   0.01\n",
      "57  -0.06   0.06    -0.06    1.01_*  0.00   0.01\n",
      "58   0.04  -0.04     0.04    1.01_*  0.00   0.01\n",
      "59   0.04  -0.04     0.04    1.01_*  0.00   0.01\n",
      "60   0.06  -0.06     0.07    1.01_*  0.00   0.01\n",
      "61   0.03  -0.03     0.03    1.01_*  0.00   0.01\n",
      "62   0.05  -0.05     0.06    1.01_*  0.00   0.01\n",
      "64   0.39  -0.39     0.44_*  0.94_*  0.09   0.01\n",
      "65  -0.05   0.05    -0.06    1.01_*  0.00   0.01\n",
      "66  -0.03   0.03    -0.03    1.01_*  0.00   0.01\n",
      "67  -0.05   0.05    -0.05    1.01_*  0.00   0.01\n",
      "69   0.02  -0.02     0.02    1.01_*  0.00   0.01\n",
      "70   0.00   0.00     0.00    1.01_*  0.00   0.01\n",
      "71  -0.03   0.03    -0.03    1.01_*  0.00   0.01\n",
      "72  -0.05   0.05    -0.06    1.01_*  0.00   0.01\n",
      "79   0.06  -0.06     0.11    0.99_*  0.01   0.00\n",
      "94   0.06  -0.06     0.12    0.99_*  0.01   0.00\n",
      "98   0.12  -0.12     0.24_*  0.93_*  0.03   0.00\n",
      "158  0.11  -0.11     0.22_*  0.94_*  0.02   0.00\n",
      "226  0.11  -0.11     0.21_*  0.94_*  0.02   0.00\n",
      "253  0.18  -0.18     0.35_*  0.85_*  0.06   0.00\n",
      "483 -0.10   0.10     0.16    0.98_*  0.01   0.00\n",
      "520 -0.13   0.13     0.20_*  0.96_*  0.02   0.00\n",
      "524 -0.14   0.14     0.22_*  0.95_*  0.02   0.00\n"
     ]
    }
   ],
   "source": [
    "summary(influence.measures(lmMod))"
   ]
  },
  {
   "cell_type": "code",
   "execution_count": 47,
   "id": "833568ff-eda8-4561-b769-10db8d65a7f9",
   "metadata": {
    "vscode": {
     "languageId": "r"
    }
   },
   "outputs": [],
   "source": [
    "DSMeans3 <- DS %>% group_by(work_year) %>% summarize(Mean = mean(salary_in_usd))"
   ]
  },
  {
   "cell_type": "code",
   "execution_count": 48,
   "id": "bd0d445c-e4bd-4693-baed-de5706ca29c0",
   "metadata": {
    "vscode": {
     "languageId": "r"
    }
   },
   "outputs": [
    {
     "data": {
      "text/html": [
       "<table class=\"dataframe\">\n",
       "<caption>A tibble: 3 × 2</caption>\n",
       "<thead>\n",
       "\t<tr><th scope=col>work_year</th><th scope=col>Mean</th></tr>\n",
       "\t<tr><th scope=col>&lt;int&gt;</th><th scope=col>&lt;dbl&gt;</th></tr>\n",
       "</thead>\n",
       "<tbody>\n",
       "\t<tr><td>2020</td><td> 95813.00</td></tr>\n",
       "\t<tr><td>2021</td><td> 99853.79</td></tr>\n",
       "\t<tr><td>2022</td><td>124522.01</td></tr>\n",
       "</tbody>\n",
       "</table>\n"
      ],
      "text/latex": [
       "A tibble: 3 × 2\n",
       "\\begin{tabular}{ll}\n",
       " work\\_year & Mean\\\\\n",
       " <int> & <dbl>\\\\\n",
       "\\hline\n",
       "\t 2020 &  95813.00\\\\\n",
       "\t 2021 &  99853.79\\\\\n",
       "\t 2022 & 124522.01\\\\\n",
       "\\end{tabular}\n"
      ],
      "text/markdown": [
       "\n",
       "A tibble: 3 × 2\n",
       "\n",
       "| work_year &lt;int&gt; | Mean &lt;dbl&gt; |\n",
       "|---|---|\n",
       "| 2020 |  95813.00 |\n",
       "| 2021 |  99853.79 |\n",
       "| 2022 | 124522.01 |\n",
       "\n"
      ],
      "text/plain": [
       "  work_year Mean     \n",
       "1 2020       95813.00\n",
       "2 2021       99853.79\n",
       "3 2022      124522.01"
      ]
     },
     "metadata": {},
     "output_type": "display_data"
    }
   ],
   "source": [
    "DSMeans3"
   ]
  },
  {
   "cell_type": "markdown",
   "id": "d5b9eb6f-e0cf-4e2f-8ffe-db724b10bade",
   "metadata": {},
   "source": [
    "Avergae Salary 2020 = 95,813\n",
    "\n",
    "\n",
    "Avergae Salary 2021 = 99,854\n",
    "\n",
    "\n",
    "Avergae Salary 2022 = 124,522\n",
    "\n",
    "\n",
    "**Formula: Y=17479(YEAR)-35219689 Y = Estimated Salary**\n",
    "\n",
    "\n",
    "Estimated Salary for 2023 = y=17479(2023)-35219689= $140,328\n",
    "\n",
    "Estimated Salary for 2024 = y=17479(2024)-35219689= $157,807\n",
    "\n",
    "Estimated Salary for 2027 = y=17479(2027)-35219689= $210,244\n",
    "\n"
   ]
  },
  {
   "cell_type": "markdown",
   "id": "47575e29-4f50-40db-8ec9-786b5b586026",
   "metadata": {},
   "source": [
    "# Will you make more money working for a company in the US or abroad? "
   ]
  },
  {
   "cell_type": "code",
   "execution_count": 49,
   "id": "98461dd5-55f9-4060-b9ed-f5dcde648a63",
   "metadata": {
    "tags": [],
    "vscode": {
     "languageId": "r"
    }
   },
   "outputs": [
    {
     "data": {
      "text/html": [
       "<style>\n",
       ".list-inline {list-style: none; margin:0; padding: 0}\n",
       ".list-inline>li {display: inline-block}\n",
       ".list-inline>li:not(:last-child)::after {content: \"\\00b7\"; padding: 0 .5ex}\n",
       "</style>\n",
       "<ol class=list-inline><li>'DE'</li><li>'JP'</li><li>'GB'</li><li>'HN'</li><li>'US'</li><li>'HU'</li><li>'NZ'</li><li>'FR'</li><li>'IN'</li><li>'PK'</li><li>'CN'</li><li>'GR'</li><li>'AE'</li><li>'NL'</li><li>'MX'</li><li>'CA'</li><li>'AT'</li><li>'NG'</li><li>'ES'</li><li>'PT'</li><li>'DK'</li><li>'IT'</li><li>'HR'</li><li>'LU'</li><li>'PL'</li><li>'SG'</li><li>'RO'</li><li>'IQ'</li><li>'BR'</li><li>'BE'</li><li>'UA'</li><li>'IL'</li><li>'RU'</li><li>'MT'</li><li>'CL'</li><li>'IR'</li><li>'CO'</li><li>'MD'</li><li>'KE'</li><li>'SI'</li><li>'CH'</li><li>'VN'</li><li>'AS'</li><li>'TR'</li><li>'CZ'</li><li>'DZ'</li><li>'EE'</li><li>'MY'</li><li>'AU'</li><li>'IE'</li></ol>\n"
      ],
      "text/latex": [
       "\\begin{enumerate*}\n",
       "\\item 'DE'\n",
       "\\item 'JP'\n",
       "\\item 'GB'\n",
       "\\item 'HN'\n",
       "\\item 'US'\n",
       "\\item 'HU'\n",
       "\\item 'NZ'\n",
       "\\item 'FR'\n",
       "\\item 'IN'\n",
       "\\item 'PK'\n",
       "\\item 'CN'\n",
       "\\item 'GR'\n",
       "\\item 'AE'\n",
       "\\item 'NL'\n",
       "\\item 'MX'\n",
       "\\item 'CA'\n",
       "\\item 'AT'\n",
       "\\item 'NG'\n",
       "\\item 'ES'\n",
       "\\item 'PT'\n",
       "\\item 'DK'\n",
       "\\item 'IT'\n",
       "\\item 'HR'\n",
       "\\item 'LU'\n",
       "\\item 'PL'\n",
       "\\item 'SG'\n",
       "\\item 'RO'\n",
       "\\item 'IQ'\n",
       "\\item 'BR'\n",
       "\\item 'BE'\n",
       "\\item 'UA'\n",
       "\\item 'IL'\n",
       "\\item 'RU'\n",
       "\\item 'MT'\n",
       "\\item 'CL'\n",
       "\\item 'IR'\n",
       "\\item 'CO'\n",
       "\\item 'MD'\n",
       "\\item 'KE'\n",
       "\\item 'SI'\n",
       "\\item 'CH'\n",
       "\\item 'VN'\n",
       "\\item 'AS'\n",
       "\\item 'TR'\n",
       "\\item 'CZ'\n",
       "\\item 'DZ'\n",
       "\\item 'EE'\n",
       "\\item 'MY'\n",
       "\\item 'AU'\n",
       "\\item 'IE'\n",
       "\\end{enumerate*}\n"
      ],
      "text/markdown": [
       "1. 'DE'\n",
       "2. 'JP'\n",
       "3. 'GB'\n",
       "4. 'HN'\n",
       "5. 'US'\n",
       "6. 'HU'\n",
       "7. 'NZ'\n",
       "8. 'FR'\n",
       "9. 'IN'\n",
       "10. 'PK'\n",
       "11. 'CN'\n",
       "12. 'GR'\n",
       "13. 'AE'\n",
       "14. 'NL'\n",
       "15. 'MX'\n",
       "16. 'CA'\n",
       "17. 'AT'\n",
       "18. 'NG'\n",
       "19. 'ES'\n",
       "20. 'PT'\n",
       "21. 'DK'\n",
       "22. 'IT'\n",
       "23. 'HR'\n",
       "24. 'LU'\n",
       "25. 'PL'\n",
       "26. 'SG'\n",
       "27. 'RO'\n",
       "28. 'IQ'\n",
       "29. 'BR'\n",
       "30. 'BE'\n",
       "31. 'UA'\n",
       "32. 'IL'\n",
       "33. 'RU'\n",
       "34. 'MT'\n",
       "35. 'CL'\n",
       "36. 'IR'\n",
       "37. 'CO'\n",
       "38. 'MD'\n",
       "39. 'KE'\n",
       "40. 'SI'\n",
       "41. 'CH'\n",
       "42. 'VN'\n",
       "43. 'AS'\n",
       "44. 'TR'\n",
       "45. 'CZ'\n",
       "46. 'DZ'\n",
       "47. 'EE'\n",
       "48. 'MY'\n",
       "49. 'AU'\n",
       "50. 'IE'\n",
       "\n",
       "\n"
      ],
      "text/plain": [
       " [1] \"DE\" \"JP\" \"GB\" \"HN\" \"US\" \"HU\" \"NZ\" \"FR\" \"IN\" \"PK\" \"CN\" \"GR\" \"AE\" \"NL\" \"MX\"\n",
       "[16] \"CA\" \"AT\" \"NG\" \"ES\" \"PT\" \"DK\" \"IT\" \"HR\" \"LU\" \"PL\" \"SG\" \"RO\" \"IQ\" \"BR\" \"BE\"\n",
       "[31] \"UA\" \"IL\" \"RU\" \"MT\" \"CL\" \"IR\" \"CO\" \"MD\" \"KE\" \"SI\" \"CH\" \"VN\" \"AS\" \"TR\" \"CZ\"\n",
       "[46] \"DZ\" \"EE\" \"MY\" \"AU\" \"IE\""
      ]
     },
     "metadata": {},
     "output_type": "display_data"
    }
   ],
   "source": [
    "unique(DS$company_location)"
   ]
  },
  {
   "cell_type": "code",
   "execution_count": 50,
   "id": "ff9b573a-ef06-4728-be7e-04dd6e2c0851",
   "metadata": {
    "vscode": {
     "languageId": "r"
    }
   },
   "outputs": [],
   "source": [
    "US_Location <- na.omit(DS %>% filter(company_location %in% c(\"US\")))"
   ]
  },
  {
   "cell_type": "code",
   "execution_count": 51,
   "id": "aced60e8-53df-42da-8614-c2a0ce279ccc",
   "metadata": {
    "tags": [],
    "vscode": {
     "languageId": "r"
    }
   },
   "outputs": [],
   "source": [
    "IN_Location <- na.omit(DS %>% filter(company_location %in% c('DE','JP','GB','HN','HU','NZ','FR','IN','PK','CN','GR','AE','NL','MX','CA','AT','NG','ES','PT','DK','IT','HR','LU','PL','SG','RO','IQ','BR','BE','UA','IL','RU','MT','CL','IR','CO','MD','KE','SI','CH','VN','AS','TR','CZ','DZ','EE','MY','AU','IE')))"
   ]
  },
  {
   "cell_type": "code",
   "execution_count": 52,
   "id": "2382928d-3fb7-46de-b9cf-4774ecf99fc6",
   "metadata": {
    "tags": [],
    "vscode": {
     "languageId": "r"
    }
   },
   "outputs": [],
   "source": [
    "US_Mean <- US_Location %>% group_by(work_year) %>% summarize(Mean = mean(salary_in_usd))"
   ]
  },
  {
   "cell_type": "code",
   "execution_count": 53,
   "id": "83184ff0-eded-46de-928b-f33a4c392cf6",
   "metadata": {
    "tags": [],
    "vscode": {
     "languageId": "r"
    }
   },
   "outputs": [
    {
     "data": {
      "text/html": [
       "<table class=\"dataframe\">\n",
       "<caption>A tibble: 3 × 2</caption>\n",
       "<thead>\n",
       "\t<tr><th scope=col>work_year</th><th scope=col>Mean</th></tr>\n",
       "\t<tr><th scope=col>&lt;int&gt;</th><th scope=col>&lt;dbl&gt;</th></tr>\n",
       "</thead>\n",
       "<tbody>\n",
       "\t<tr><td>2020</td><td>143251.3</td></tr>\n",
       "\t<tr><td>2021</td><td>141991.0</td></tr>\n",
       "\t<tr><td>2022</td><td>145066.2</td></tr>\n",
       "</tbody>\n",
       "</table>\n"
      ],
      "text/latex": [
       "A tibble: 3 × 2\n",
       "\\begin{tabular}{ll}\n",
       " work\\_year & Mean\\\\\n",
       " <int> & <dbl>\\\\\n",
       "\\hline\n",
       "\t 2020 & 143251.3\\\\\n",
       "\t 2021 & 141991.0\\\\\n",
       "\t 2022 & 145066.2\\\\\n",
       "\\end{tabular}\n"
      ],
      "text/markdown": [
       "\n",
       "A tibble: 3 × 2\n",
       "\n",
       "| work_year &lt;int&gt; | Mean &lt;dbl&gt; |\n",
       "|---|---|\n",
       "| 2020 | 143251.3 |\n",
       "| 2021 | 141991.0 |\n",
       "| 2022 | 145066.2 |\n",
       "\n"
      ],
      "text/plain": [
       "  work_year Mean    \n",
       "1 2020      143251.3\n",
       "2 2021      141991.0\n",
       "3 2022      145066.2"
      ]
     },
     "metadata": {},
     "output_type": "display_data"
    }
   ],
   "source": [
    "US_Mean"
   ]
  },
  {
   "cell_type": "code",
   "execution_count": 54,
   "id": "bdfa1d0f-4e31-46ad-bf45-482b888588dd",
   "metadata": {
    "vscode": {
     "languageId": "r"
    }
   },
   "outputs": [],
   "source": [
    "write.csv(US_Mean,\"C:/Users/Summe/Desktop/US_Mean.csv\", row.names = FALSE)"
   ]
  },
  {
   "cell_type": "code",
   "execution_count": 55,
   "id": "fc9eba94-9570-4a71-8f43-5da3b9f9f0bc",
   "metadata": {
    "vscode": {
     "languageId": "r"
    }
   },
   "outputs": [],
   "source": [
    "International_Mean <- IN_Location %>% group_by(work_year) %>% summarize(Mean = mean(salary_in_usd))"
   ]
  },
  {
   "cell_type": "code",
   "execution_count": 56,
   "id": "804af5da-442f-40c1-ac32-3a4e6cdab041",
   "metadata": {
    "tags": [],
    "vscode": {
     "languageId": "r"
    }
   },
   "outputs": [
    {
     "data": {
      "text/html": [
       "<table class=\"dataframe\">\n",
       "<caption>A tibble: 3 × 2</caption>\n",
       "<thead>\n",
       "\t<tr><th scope=col>work_year</th><th scope=col>Mean</th></tr>\n",
       "\t<tr><th scope=col>&lt;int&gt;</th><th scope=col>&lt;dbl&gt;</th></tr>\n",
       "</thead>\n",
       "<tbody>\n",
       "\t<tr><td>2020</td><td>61928.52</td></tr>\n",
       "\t<tr><td>2021</td><td>64501.40</td></tr>\n",
       "\t<tr><td>2022</td><td>74054.63</td></tr>\n",
       "</tbody>\n",
       "</table>\n"
      ],
      "text/latex": [
       "A tibble: 3 × 2\n",
       "\\begin{tabular}{ll}\n",
       " work\\_year & Mean\\\\\n",
       " <int> & <dbl>\\\\\n",
       "\\hline\n",
       "\t 2020 & 61928.52\\\\\n",
       "\t 2021 & 64501.40\\\\\n",
       "\t 2022 & 74054.63\\\\\n",
       "\\end{tabular}\n"
      ],
      "text/markdown": [
       "\n",
       "A tibble: 3 × 2\n",
       "\n",
       "| work_year &lt;int&gt; | Mean &lt;dbl&gt; |\n",
       "|---|---|\n",
       "| 2020 | 61928.52 |\n",
       "| 2021 | 64501.40 |\n",
       "| 2022 | 74054.63 |\n",
       "\n"
      ],
      "text/plain": [
       "  work_year Mean    \n",
       "1 2020      61928.52\n",
       "2 2021      64501.40\n",
       "3 2022      74054.63"
      ]
     },
     "metadata": {},
     "output_type": "display_data"
    }
   ],
   "source": [
    "International_Mean"
   ]
  },
  {
   "cell_type": "code",
   "execution_count": 57,
   "id": "da955175-b690-4ece-b102-0ca17a2fd337",
   "metadata": {
    "vscode": {
     "languageId": "r"
    }
   },
   "outputs": [],
   "source": [
    "write.csv(International_Mean,\"C:/Users/Summe/Desktop/International_Mean.csv\", row.names = FALSE)"
   ]
  },
  {
   "cell_type": "code",
   "execution_count": 58,
   "id": "cd9f2edb-a4f3-47a5-8c77-2f5482cc7cca",
   "metadata": {
    "vscode": {
     "languageId": "r"
    }
   },
   "outputs": [
    {
     "data": {
      "text/html": [
       "144055.261971831"
      ],
      "text/latex": [
       "144055.261971831"
      ],
      "text/markdown": [
       "144055.261971831"
      ],
      "text/plain": [
       "[1] 144055.3"
      ]
     },
     "metadata": {},
     "output_type": "display_data"
    }
   ],
   "source": [
    "mean(US_Location$salary_in_usd)"
   ]
  },
  {
   "cell_type": "code",
   "execution_count": 59,
   "id": "81ba53fb-758d-430d-bb1c-afa745944c69",
   "metadata": {
    "vscode": {
     "languageId": "r"
    }
   },
   "outputs": [],
   "source": [
    "write.csv(US_Location,\"C:/Users/Summe/Desktop/US_Location.csv\", row.names = FALSE)"
   ]
  },
  {
   "cell_type": "code",
   "execution_count": 60,
   "id": "6dea5965-1f0b-4756-a2bc-32dee1701b6e",
   "metadata": {
    "vscode": {
     "languageId": "r"
    }
   },
   "outputs": [
    {
     "data": {
      "text/html": [
       "67560.2738095238"
      ],
      "text/latex": [
       "67560.2738095238"
      ],
      "text/markdown": [
       "67560.2738095238"
      ],
      "text/plain": [
       "[1] 67560.27"
      ]
     },
     "metadata": {},
     "output_type": "display_data"
    }
   ],
   "source": [
    "mean(IN_Location$salary_in_usd)"
   ]
  },
  {
   "cell_type": "code",
   "execution_count": 61,
   "id": "b3ce0ab2-fa96-493a-8565-4bb87cb59b15",
   "metadata": {
    "vscode": {
     "languageId": "r"
    }
   },
   "outputs": [],
   "source": [
    "write.csv(IN_Location,\"C:/Users/Summe/Desktop/IN_location.csv\", row.names = FALSE)"
   ]
  },
  {
   "cell_type": "markdown",
   "id": "4cfc4691-3509-411e-b2dc-38779bdccdb1",
   "metadata": {
    "vscode": {
     "languageId": "r"
    }
   },
   "source": [
    "# T-testing US Average and International Average "
   ]
  },
  {
   "cell_type": "code",
   "execution_count": 63,
   "id": "6be6cb34-a01b-4290-91b2-ed54c757ff15",
   "metadata": {
    "tags": [],
    "vscode": {
     "languageId": "r"
    }
   },
   "outputs": [
    {
     "name": "stdout",
     "output_type": "stream",
     "text": [
      "\n",
      "\tOne Sample t-test\n",
      "\n",
      "data:  US_Location$salary_in_usd\n",
      "t = 8.5593, df = 354, p-value = 3.509e-16\n",
      "alternative hypothesis: true mean is not equal to 112298\n",
      "95 percent confidence interval:\n",
      " 136758.3 151352.2\n",
      "sample estimates:\n",
      "mean of x \n",
      " 144055.3 \n",
      "\n"
     ]
    }
   ],
   "source": [
    "t_obj <- t.test(US_Location$salary_in_usd, mu = 112298)\n",
    "print(t_obj)"
   ]
  },
  {
   "cell_type": "code",
   "execution_count": 64,
   "id": "1d68b4fd-2103-456f-befa-62ff1b201b8a",
   "metadata": {
    "tags": [],
    "vscode": {
     "languageId": "r"
    }
   },
   "outputs": [
    {
     "name": "stdout",
     "output_type": "stream",
     "text": [
      "\n",
      "\tOne Sample t-test\n",
      "\n",
      "data:  IN_Location$salary_in_usd\n",
      "t = -16.611, df = 251, p-value < 2.2e-16\n",
      "alternative hypothesis: true mean is not equal to 112298\n",
      "95 percent confidence interval:\n",
      " 62256.13 72864.41\n",
      "sample estimates:\n",
      "mean of x \n",
      " 67560.27 \n",
      "\n"
     ]
    }
   ],
   "source": [
    "t_obj <- t.test(IN_Location$salary_in_usd, mu = 112298)\n",
    "print(t_obj)"
   ]
  },
  {
   "cell_type": "markdown",
   "id": "baf40b3c-d571-482c-bb94-505436302282",
   "metadata": {},
   "source": [
    "# Are US or International companies more likely to hire remote workers? "
   ]
  },
  {
   "cell_type": "code",
   "execution_count": 65,
   "id": "49cd2450-0a46-412b-9523-61fd8de93e35",
   "metadata": {
    "vscode": {
     "languageId": "r"
    }
   },
   "outputs": [
    {
     "data": {
      "text/html": [
       "77.7464788732394"
      ],
      "text/latex": [
       "77.7464788732394"
      ],
      "text/markdown": [
       "77.7464788732394"
      ],
      "text/plain": [
       "[1] 77.74648"
      ]
     },
     "metadata": {},
     "output_type": "display_data"
    }
   ],
   "source": [
    "mean(US_Location$remote_ratio)"
   ]
  },
  {
   "cell_type": "code",
   "execution_count": 66,
   "id": "cda4d12f-17ad-4f51-956d-679649bc73dd",
   "metadata": {
    "vscode": {
     "languageId": "r"
    }
   },
   "outputs": [
    {
     "data": {
      "text/html": [
       "61.3095238095238"
      ],
      "text/latex": [
       "61.3095238095238"
      ],
      "text/markdown": [
       "61.3095238095238"
      ],
      "text/plain": [
       "[1] 61.30952"
      ]
     },
     "metadata": {},
     "output_type": "display_data"
    }
   ],
   "source": [
    "mean(IN_Location$remote_ratio)"
   ]
  },
  {
   "cell_type": "markdown",
   "id": "7a2a2922-f674-41bb-b02d-faf50ecfd20c",
   "metadata": {},
   "source": [
    "**US locations are 17% more likely to hire remote workers than international companies**"
   ]
  }
 ],
 "metadata": {
  "kernelspec": {
   "display_name": "R",
   "language": "R",
   "name": "ir"
  },
  "language_info": {
   "codemirror_mode": "r",
   "file_extension": ".r",
   "mimetype": "text/x-r-source",
   "name": "R",
   "pygments_lexer": "r",
   "version": "4.1.2"
  }
 },
 "nbformat": 4,
 "nbformat_minor": 5
}
