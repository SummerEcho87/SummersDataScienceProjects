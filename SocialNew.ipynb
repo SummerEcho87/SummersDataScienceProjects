{
 "cells": [
  {
   "cell_type": "code",
   "execution_count": 1,
   "id": "362b4ad6-26fe-41ac-8682-7fcf49ac9a23",
   "metadata": {
    "collapsed": true,
    "jupyter": {
     "outputs_hidden": true,
     "source_hidden": true
    },
    "tags": []
   },
   "outputs": [
    {
     "name": "stderr",
     "output_type": "stream",
     "text": [
      "Installing package into 'C:/Users/Summe/AppData/Local/R/win-library/4.2'\n",
      "(as 'lib' is unspecified)\n",
      "\n"
     ]
    },
    {
     "name": "stdout",
     "output_type": "stream",
     "text": [
      "package 'ggplot2' successfully unpacked and MD5 sums checked\n",
      "\n",
      "The downloaded binary packages are in\n",
      "\tC:\\Users\\Summe\\AppData\\Local\\Temp\\RtmpgXdACQ\\downloaded_packages\n"
     ]
    },
    {
     "name": "stderr",
     "output_type": "stream",
     "text": [
      "Warning message:\n",
      "\"package 'datasets' is in use and will not be installed\"\n",
      "Installing package into 'C:/Users/Summe/AppData/Local/R/win-library/4.2'\n",
      "(as 'lib' is unspecified)\n",
      "\n"
     ]
    },
    {
     "name": "stdout",
     "output_type": "stream",
     "text": [
      "package 'readxl' successfully unpacked and MD5 sums checked\n",
      "\n",
      "The downloaded binary packages are in\n",
      "\tC:\\Users\\Summe\\AppData\\Local\\Temp\\RtmpgXdACQ\\downloaded_packages\n"
     ]
    },
    {
     "name": "stderr",
     "output_type": "stream",
     "text": [
      "Installing package into 'C:/Users/Summe/AppData/Local/R/win-library/4.2'\n",
      "(as 'lib' is unspecified)\n",
      "\n"
     ]
    },
    {
     "name": "stdout",
     "output_type": "stream",
     "text": [
      "package 'dplyr' successfully unpacked and MD5 sums checked\n"
     ]
    },
    {
     "name": "stderr",
     "output_type": "stream",
     "text": [
      "Warning message:\n",
      "\"cannot remove prior installation of package 'dplyr'\"\n",
      "Warning message in file.copy(savedcopy, lib, recursive = TRUE):\n",
      "\"problem copying C:\\Users\\Summe\\AppData\\Local\\R\\win-library\\4.2\\00LOCK\\dplyr\\libs\\x64\\dplyr.dll to C:\\Users\\Summe\\AppData\\Local\\R\\win-library\\4.2\\dplyr\\libs\\x64\\dplyr.dll: Permission denied\"\n",
      "Warning message:\n",
      "\"restored 'dplyr'\"\n"
     ]
    },
    {
     "name": "stdout",
     "output_type": "stream",
     "text": [
      "\n",
      "The downloaded binary packages are in\n",
      "\tC:\\Users\\Summe\\AppData\\Local\\Temp\\RtmpgXdACQ\\downloaded_packages\n"
     ]
    },
    {
     "name": "stderr",
     "output_type": "stream",
     "text": [
      "Installing package into 'C:/Users/Summe/AppData/Local/R/win-library/4.2'\n",
      "(as 'lib' is unspecified)\n",
      "\n"
     ]
    },
    {
     "name": "stdout",
     "output_type": "stream",
     "text": [
      "package 'PerformanceAnalytics' successfully unpacked and MD5 sums checked\n",
      "\n",
      "The downloaded binary packages are in\n",
      "\tC:\\Users\\Summe\\AppData\\Local\\Temp\\RtmpgXdACQ\\downloaded_packages\n"
     ]
    },
    {
     "name": "stderr",
     "output_type": "stream",
     "text": [
      "Installing package into 'C:/Users/Summe/AppData/Local/R/win-library/4.2'\n",
      "(as 'lib' is unspecified)\n",
      "\n"
     ]
    },
    {
     "name": "stdout",
     "output_type": "stream",
     "text": [
      "package 'corrplot' successfully unpacked and MD5 sums checked\n",
      "\n",
      "The downloaded binary packages are in\n",
      "\tC:\\Users\\Summe\\AppData\\Local\\Temp\\RtmpgXdACQ\\downloaded_packages\n"
     ]
    },
    {
     "name": "stderr",
     "output_type": "stream",
     "text": [
      "Installing package into 'C:/Users/Summe/AppData/Local/R/win-library/4.2'\n",
      "(as 'lib' is unspecified)\n",
      "\n"
     ]
    },
    {
     "name": "stdout",
     "output_type": "stream",
     "text": [
      "package 'gapminder' successfully unpacked and MD5 sums checked\n",
      "\n",
      "The downloaded binary packages are in\n",
      "\tC:\\Users\\Summe\\AppData\\Local\\Temp\\RtmpgXdACQ\\downloaded_packages\n"
     ]
    },
    {
     "name": "stderr",
     "output_type": "stream",
     "text": [
      "Installing package into 'C:/Users/Summe/AppData/Local/R/win-library/4.2'\n",
      "(as 'lib' is unspecified)\n",
      "\n",
      "Warning message:\n",
      "\"package 'gridextra' is not available for this version of R\n",
      "\n",
      "A version of this package for your version of R might be available elsewhere,\n",
      "see the ideas at\n",
      "https://cran.r-project.org/doc/manuals/r-patched/R-admin.html#Installing-packages\"\n",
      "Warning message:\n",
      "\"Perhaps you meant 'gridExtra' ?\"\n",
      "Installing package into 'C:/Users/Summe/AppData/Local/R/win-library/4.2'\n",
      "(as 'lib' is unspecified)\n",
      "\n"
     ]
    },
    {
     "name": "stdout",
     "output_type": "stream",
     "text": [
      "package 'Ecdat' successfully unpacked and MD5 sums checked\n",
      "\n",
      "The downloaded binary packages are in\n",
      "\tC:\\Users\\Summe\\AppData\\Local\\Temp\\RtmpgXdACQ\\downloaded_packages\n"
     ]
    },
    {
     "name": "stderr",
     "output_type": "stream",
     "text": [
      "Installing package into 'C:/Users/Summe/AppData/Local/R/win-library/4.2'\n",
      "(as 'lib' is unspecified)\n",
      "\n"
     ]
    },
    {
     "name": "stdout",
     "output_type": "stream",
     "text": [
      "package 'corpcor' successfully unpacked and MD5 sums checked\n",
      "\n",
      "The downloaded binary packages are in\n",
      "\tC:\\Users\\Summe\\AppData\\Local\\Temp\\RtmpgXdACQ\\downloaded_packages\n"
     ]
    },
    {
     "name": "stderr",
     "output_type": "stream",
     "text": [
      "Installing package into 'C:/Users/Summe/AppData/Local/R/win-library/4.2'\n",
      "(as 'lib' is unspecified)\n",
      "\n"
     ]
    },
    {
     "name": "stdout",
     "output_type": "stream",
     "text": [
      "package 'GPArotation' successfully unpacked and MD5 sums checked\n",
      "\n",
      "The downloaded binary packages are in\n",
      "\tC:\\Users\\Summe\\AppData\\Local\\Temp\\RtmpgXdACQ\\downloaded_packages\n"
     ]
    },
    {
     "name": "stderr",
     "output_type": "stream",
     "text": [
      "Installing package into 'C:/Users/Summe/AppData/Local/R/win-library/4.2'\n",
      "(as 'lib' is unspecified)\n",
      "\n"
     ]
    },
    {
     "name": "stdout",
     "output_type": "stream",
     "text": [
      "package 'psych' successfully unpacked and MD5 sums checked\n",
      "\n",
      "The downloaded binary packages are in\n",
      "\tC:\\Users\\Summe\\AppData\\Local\\Temp\\RtmpgXdACQ\\downloaded_packages\n"
     ]
    },
    {
     "name": "stderr",
     "output_type": "stream",
     "text": [
      "Installing package into 'C:/Users/Summe/AppData/Local/R/win-library/4.2'\n",
      "(as 'lib' is unspecified)\n",
      "\n"
     ]
    },
    {
     "name": "stdout",
     "output_type": "stream",
     "text": [
      "package 'IDPmisc' successfully unpacked and MD5 sums checked\n",
      "\n",
      "The downloaded binary packages are in\n",
      "\tC:\\Users\\Summe\\AppData\\Local\\Temp\\RtmpgXdACQ\\downloaded_packages\n"
     ]
    },
    {
     "name": "stderr",
     "output_type": "stream",
     "text": [
      "Installing package into 'C:/Users/Summe/AppData/Local/R/win-library/4.2'\n",
      "(as 'lib' is unspecified)\n",
      "\n"
     ]
    },
    {
     "name": "stdout",
     "output_type": "stream",
     "text": [
      "package 'lattice' successfully unpacked and MD5 sums checked\n",
      "\n",
      "The downloaded binary packages are in\n",
      "\tC:\\Users\\Summe\\AppData\\Local\\Temp\\RtmpgXdACQ\\downloaded_packages\n"
     ]
    },
    {
     "name": "stderr",
     "output_type": "stream",
     "text": [
      "Installing package into 'C:/Users/Summe/AppData/Local/R/win-library/4.2'\n",
      "(as 'lib' is unspecified)\n",
      "\n",
      "Warning message:\n",
      "\"package 'treetop' is not available for this version of R\n",
      "\n",
      "A version of this package for your version of R might be available elsewhere,\n",
      "see the ideas at\n",
      "https://cran.r-project.org/doc/manuals/r-patched/R-admin.html#Installing-packages\"\n",
      "Installing package into 'C:/Users/Summe/AppData/Local/R/win-library/4.2'\n",
      "(as 'lib' is unspecified)\n",
      "\n"
     ]
    },
    {
     "name": "stdout",
     "output_type": "stream",
     "text": [
      "package 'scales' successfully unpacked and MD5 sums checked\n",
      "\n",
      "The downloaded binary packages are in\n",
      "\tC:\\Users\\Summe\\AppData\\Local\\Temp\\RtmpgXdACQ\\downloaded_packages\n"
     ]
    },
    {
     "name": "stderr",
     "output_type": "stream",
     "text": [
      "Installing package into 'C:/Users/Summe/AppData/Local/R/win-library/4.2'\n",
      "(as 'lib' is unspecified)\n",
      "\n"
     ]
    },
    {
     "name": "stdout",
     "output_type": "stream",
     "text": [
      "package 'rcompanion' successfully unpacked and MD5 sums checked\n",
      "\n",
      "The downloaded binary packages are in\n",
      "\tC:\\Users\\Summe\\AppData\\Local\\Temp\\RtmpgXdACQ\\downloaded_packages\n"
     ]
    },
    {
     "name": "stderr",
     "output_type": "stream",
     "text": [
      "Installing package into 'C:/Users/Summe/AppData/Local/R/win-library/4.2'\n",
      "(as 'lib' is unspecified)\n",
      "\n"
     ]
    },
    {
     "name": "stdout",
     "output_type": "stream",
     "text": [
      "package 'gmodels' successfully unpacked and MD5 sums checked\n",
      "\n",
      "The downloaded binary packages are in\n",
      "\tC:\\Users\\Summe\\AppData\\Local\\Temp\\RtmpgXdACQ\\downloaded_packages\n"
     ]
    },
    {
     "name": "stderr",
     "output_type": "stream",
     "text": [
      "Installing package into 'C:/Users/Summe/AppData/Local/R/win-library/4.2'\n",
      "(as 'lib' is unspecified)\n",
      "\n"
     ]
    },
    {
     "name": "stdout",
     "output_type": "stream",
     "text": [
      "package 'car' successfully unpacked and MD5 sums checked\n",
      "\n",
      "The downloaded binary packages are in\n",
      "\tC:\\Users\\Summe\\AppData\\Local\\Temp\\RtmpgXdACQ\\downloaded_packages\n"
     ]
    },
    {
     "name": "stderr",
     "output_type": "stream",
     "text": [
      "Installing package into 'C:/Users/Summe/AppData/Local/R/win-library/4.2'\n",
      "(as 'lib' is unspecified)\n",
      "\n"
     ]
    },
    {
     "name": "stdout",
     "output_type": "stream",
     "text": [
      "package 'caret' successfully unpacked and MD5 sums checked\n",
      "\n",
      "The downloaded binary packages are in\n",
      "\tC:\\Users\\Summe\\AppData\\Local\\Temp\\RtmpgXdACQ\\downloaded_packages\n"
     ]
    },
    {
     "name": "stderr",
     "output_type": "stream",
     "text": [
      "Installing package into 'C:/Users/Summe/AppData/Local/R/win-library/4.2'\n",
      "(as 'lib' is unspecified)\n",
      "\n"
     ]
    },
    {
     "name": "stdout",
     "output_type": "stream",
     "text": [
      "package 'gvlma' successfully unpacked and MD5 sums checked\n",
      "\n",
      "The downloaded binary packages are in\n",
      "\tC:\\Users\\Summe\\AppData\\Local\\Temp\\RtmpgXdACQ\\downloaded_packages\n"
     ]
    },
    {
     "name": "stderr",
     "output_type": "stream",
     "text": [
      "Installing package into 'C:/Users/Summe/AppData/Local/R/win-library/4.2'\n",
      "(as 'lib' is unspecified)\n",
      "\n"
     ]
    },
    {
     "name": "stdout",
     "output_type": "stream",
     "text": [
      "package 'predictmeans' successfully unpacked and MD5 sums checked\n",
      "\n",
      "The downloaded binary packages are in\n",
      "\tC:\\Users\\Summe\\AppData\\Local\\Temp\\RtmpgXdACQ\\downloaded_packages\n"
     ]
    },
    {
     "name": "stderr",
     "output_type": "stream",
     "text": [
      "Installing package into 'C:/Users/Summe/AppData/Local/R/win-library/4.2'\n",
      "(as 'lib' is unspecified)\n",
      "\n"
     ]
    },
    {
     "name": "stdout",
     "output_type": "stream",
     "text": [
      "package 'caret' successfully unpacked and MD5 sums checked\n",
      "\n",
      "The downloaded binary packages are in\n",
      "\tC:\\Users\\Summe\\AppData\\Local\\Temp\\RtmpgXdACQ\\downloaded_packages\n"
     ]
    },
    {
     "name": "stderr",
     "output_type": "stream",
     "text": [
      "Installing package into 'C:/Users/Summe/AppData/Local/R/win-library/4.2'\n",
      "(as 'lib' is unspecified)\n",
      "\n"
     ]
    },
    {
     "name": "stdout",
     "output_type": "stream",
     "text": [
      "package 'magrittr' successfully unpacked and MD5 sums checked\n"
     ]
    },
    {
     "name": "stderr",
     "output_type": "stream",
     "text": [
      "Warning message:\n",
      "\"cannot remove prior installation of package 'magrittr'\"\n",
      "Warning message in file.copy(savedcopy, lib, recursive = TRUE):\n",
      "\"problem copying C:\\Users\\Summe\\AppData\\Local\\R\\win-library\\4.2\\00LOCK\\magrittr\\libs\\x64\\magrittr.dll to C:\\Users\\Summe\\AppData\\Local\\R\\win-library\\4.2\\magrittr\\libs\\x64\\magrittr.dll: Permission denied\"\n",
      "Warning message:\n",
      "\"restored 'magrittr'\"\n"
     ]
    },
    {
     "name": "stdout",
     "output_type": "stream",
     "text": [
      "\n",
      "The downloaded binary packages are in\n",
      "\tC:\\Users\\Summe\\AppData\\Local\\Temp\\RtmpgXdACQ\\downloaded_packages\n"
     ]
    },
    {
     "name": "stderr",
     "output_type": "stream",
     "text": [
      "Installing package into 'C:/Users/Summe/AppData/Local/R/win-library/4.2'\n",
      "(as 'lib' is unspecified)\n",
      "\n"
     ]
    },
    {
     "name": "stdout",
     "output_type": "stream",
     "text": [
      "package 'tidyr' successfully unpacked and MD5 sums checked\n",
      "\n",
      "The downloaded binary packages are in\n",
      "\tC:\\Users\\Summe\\AppData\\Local\\Temp\\RtmpgXdACQ\\downloaded_packages\n"
     ]
    },
    {
     "name": "stderr",
     "output_type": "stream",
     "text": [
      "Installing package into 'C:/Users/Summe/AppData/Local/R/win-library/4.2'\n",
      "(as 'lib' is unspecified)\n",
      "\n"
     ]
    },
    {
     "name": "stdout",
     "output_type": "stream",
     "text": [
      "package 'lmtest' successfully unpacked and MD5 sums checked\n",
      "\n",
      "The downloaded binary packages are in\n",
      "\tC:\\Users\\Summe\\AppData\\Local\\Temp\\RtmpgXdACQ\\downloaded_packages\n"
     ]
    },
    {
     "name": "stderr",
     "output_type": "stream",
     "text": [
      "Installing package into 'C:/Users/Summe/AppData/Local/R/win-library/4.2'\n",
      "(as 'lib' is unspecified)\n",
      "\n"
     ]
    },
    {
     "name": "stdout",
     "output_type": "stream",
     "text": [
      "package 'popbio' successfully unpacked and MD5 sums checked\n",
      "\n",
      "The downloaded binary packages are in\n",
      "\tC:\\Users\\Summe\\AppData\\Local\\Temp\\RtmpgXdACQ\\downloaded_packages\n"
     ]
    },
    {
     "name": "stderr",
     "output_type": "stream",
     "text": [
      "Installing package into 'C:/Users/Summe/AppData/Local/R/win-library/4.2'\n",
      "(as 'lib' is unspecified)\n",
      "\n"
     ]
    },
    {
     "name": "stdout",
     "output_type": "stream",
     "text": [
      "package 'e1071' successfully unpacked and MD5 sums checked\n",
      "\n",
      "The downloaded binary packages are in\n",
      "\tC:\\Users\\Summe\\AppData\\Local\\Temp\\RtmpgXdACQ\\downloaded_packages\n"
     ]
    },
    {
     "name": "stderr",
     "output_type": "stream",
     "text": [
      "Installing package into 'C:/Users/Summe/AppData/Local/R/win-library/4.2'\n",
      "(as 'lib' is unspecified)\n",
      "\n"
     ]
    },
    {
     "name": "stdout",
     "output_type": "stream",
     "text": [
      "package 'data.table' successfully unpacked and MD5 sums checked\n",
      "\n",
      "The downloaded binary packages are in\n",
      "\tC:\\Users\\Summe\\AppData\\Local\\Temp\\RtmpgXdACQ\\downloaded_packages\n"
     ]
    },
    {
     "name": "stderr",
     "output_type": "stream",
     "text": [
      "Installing package into 'C:/Users/Summe/AppData/Local/R/win-library/4.2'\n",
      "(as 'lib' is unspecified)\n",
      "\n"
     ]
    },
    {
     "name": "stdout",
     "output_type": "stream",
     "text": [
      "package 'effects' successfully unpacked and MD5 sums checked\n",
      "\n",
      "The downloaded binary packages are in\n",
      "\tC:\\Users\\Summe\\AppData\\Local\\Temp\\RtmpgXdACQ\\downloaded_packages\n"
     ]
    },
    {
     "name": "stderr",
     "output_type": "stream",
     "text": [
      "Installing package into 'C:/Users/Summe/AppData/Local/R/win-library/4.2'\n",
      "(as 'lib' is unspecified)\n",
      "\n"
     ]
    },
    {
     "name": "stdout",
     "output_type": "stream",
     "text": [
      "package 'multcomp' successfully unpacked and MD5 sums checked\n",
      "\n",
      "The downloaded binary packages are in\n",
      "\tC:\\Users\\Summe\\AppData\\Local\\Temp\\RtmpgXdACQ\\downloaded_packages\n"
     ]
    },
    {
     "name": "stderr",
     "output_type": "stream",
     "text": [
      "Installing package into 'C:/Users/Summe/AppData/Local/R/win-library/4.2'\n",
      "(as 'lib' is unspecified)\n",
      "\n"
     ]
    },
    {
     "name": "stdout",
     "output_type": "stream",
     "text": [
      "package 'mvnormtest' successfully unpacked and MD5 sums checked\n",
      "\n",
      "The downloaded binary packages are in\n",
      "\tC:\\Users\\Summe\\AppData\\Local\\Temp\\RtmpgXdACQ\\downloaded_packages\n"
     ]
    }
   ],
   "source": [
    "install.packages(\"ggplot2\")\n",
    "install.packages(\"datasets\")\n",
    "install.packages(\"readxl\") \n",
    "install.packages(\"dplyr\") \n",
    "install.packages(\"PerformanceAnalytics\")\n",
    "install.packages(\"corrplot\") \n",
    "install.packages(\"gapminder\")\n",
    "install.packages(\"gridextra\")\n",
    "install.packages(\"Ecdat\")\n",
    "install.packages(\"corpcor\")\n",
    "install.packages(\"GPArotation\")\n",
    "install.packages(\"psych\")\n",
    "install.packages(\"IDPmisc\")\n",
    "install.packages(\"lattice\") \n",
    "install.packages(\"treetop\")\n",
    "install.packages(\"scales\")\n",
    "install.packages(\"rcompanion\")\n",
    "install.packages(\"gmodels\")\n",
    "install.packages(\"car\")\n",
    "install.packages(\"caret\")\n",
    "install.packages(\"gvlma\")\n",
    "install.packages(\"predictmeans\")\n",
    "install.packages(\"caret\")\n",
    "install.packages(\"magrittr\")\n",
    "install.packages(\"tidyr\")\n",
    "install.packages(\"lmtest\")\n",
    "install.packages(\"popbio\")\n",
    "install.packages(\"e1071\")\n",
    "install.packages(\"data.table\")\n",
    "install.packages(\"effects\")\n",
    "install.packages(\"multcomp\")\n",
    "install.packages(\"mvnormtest\")"
   ]
  },
  {
   "cell_type": "code",
   "execution_count": 3,
   "id": "064b8ebe-4639-4967-9b88-751bf14791b1",
   "metadata": {},
   "outputs": [],
   "source": [
    "library(\"readxl\") "
   ]
  },
  {
   "cell_type": "code",
   "execution_count": 4,
   "id": "06dd933a-aea2-4f87-a9d0-b63d0d93d6bb",
   "metadata": {},
   "outputs": [],
   "source": [
    "Social = read_excel(\"C:/Users/Summe/OneDrive/Desktop/Social Data.xlsx\")"
   ]
  },
  {
   "cell_type": "code",
   "execution_count": 5,
   "id": "a2df6337-3a67-43ae-bfbc-c447127968c2",
   "metadata": {
    "collapsed": true,
    "jupyter": {
     "outputs_hidden": true
    },
    "tags": []
   },
   "outputs": [
    {
     "data": {
      "text/html": [
       "<table class=\"dataframe\">\n",
       "<caption>A tibble: 31 × 6</caption>\n",
       "<thead>\n",
       "\t<tr><th scope=col>Day</th><th scope=col># of Posts</th><th scope=col>Likes</th><th scope=col>Shares</th><th scope=col>Comments</th><th scope=col>Picture</th></tr>\n",
       "\t<tr><th scope=col>&lt;dbl&gt;</th><th scope=col>&lt;dbl&gt;</th><th scope=col>&lt;dbl&gt;</th><th scope=col>&lt;dbl&gt;</th><th scope=col>&lt;dbl&gt;</th><th scope=col>&lt;chr&gt;</th></tr>\n",
       "</thead>\n",
       "<tbody>\n",
       "\t<tr><td> 1</td><td>1</td><td>545</td><td> 45</td><td>154</td><td>y</td></tr>\n",
       "\t<tr><td> 2</td><td>3</td><td>432</td><td> 67</td><td> 10</td><td>n</td></tr>\n",
       "\t<tr><td> 3</td><td>1</td><td>401</td><td> 87</td><td> 24</td><td>n</td></tr>\n",
       "\t<tr><td> 4</td><td>1</td><td>670</td><td>100</td><td>120</td><td>y</td></tr>\n",
       "\t<tr><td> 5</td><td>1</td><td>421</td><td> 87</td><td> 45</td><td>n</td></tr>\n",
       "\t<tr><td> 6</td><td>2</td><td>521</td><td> 95</td><td> 67</td><td>y</td></tr>\n",
       "\t<tr><td> 7</td><td>2</td><td>638</td><td> 78</td><td>144</td><td>y</td></tr>\n",
       "\t<tr><td> 8</td><td>1</td><td>399</td><td> 45</td><td> 20</td><td>n</td></tr>\n",
       "\t<tr><td> 9</td><td>4</td><td>702</td><td> 66</td><td> 98</td><td>y</td></tr>\n",
       "\t<tr><td>10</td><td>4</td><td>432</td><td> 78</td><td> 25</td><td>n</td></tr>\n",
       "\t<tr><td>11</td><td>4</td><td>645</td><td> 32</td><td>145</td><td>y</td></tr>\n",
       "\t<tr><td>12</td><td>3</td><td>108</td><td> 32</td><td> 34</td><td>n</td></tr>\n",
       "\t<tr><td>13</td><td>3</td><td>132</td><td>101</td><td>100</td><td>n</td></tr>\n",
       "\t<tr><td>14</td><td>2</td><td>444</td><td>205</td><td> 23</td><td>n</td></tr>\n",
       "\t<tr><td>15</td><td>1</td><td>567</td><td> 55</td><td> 56</td><td>n</td></tr>\n",
       "\t<tr><td>16</td><td>1</td><td>524</td><td> 67</td><td> 87</td><td>n</td></tr>\n",
       "\t<tr><td>17</td><td>1</td><td>301</td><td> 89</td><td> 90</td><td>n</td></tr>\n",
       "\t<tr><td>18</td><td>1</td><td>225</td><td> 34</td><td> 44</td><td>n</td></tr>\n",
       "\t<tr><td>19</td><td>1</td><td>125</td><td> 56</td><td> 20</td><td>n</td></tr>\n",
       "\t<tr><td>20</td><td>3</td><td>561</td><td> 98</td><td> 67</td><td>y</td></tr>\n",
       "\t<tr><td>21</td><td>3</td><td>102</td><td> 76</td><td> 20</td><td>n</td></tr>\n",
       "\t<tr><td>22</td><td>2</td><td>132</td><td> 23</td><td> 15</td><td>n</td></tr>\n",
       "\t<tr><td>23</td><td>2</td><td>289</td><td> 45</td><td> 14</td><td>n</td></tr>\n",
       "\t<tr><td>24</td><td>4</td><td>700</td><td> 65</td><td>185</td><td>y</td></tr>\n",
       "\t<tr><td>25</td><td>4</td><td>324</td><td> 87</td><td> 90</td><td>n</td></tr>\n",
       "\t<tr><td>26</td><td>2</td><td>987</td><td>  9</td><td>201</td><td>y</td></tr>\n",
       "\t<tr><td>27</td><td>2</td><td>423</td><td> 34</td><td> 24</td><td>n</td></tr>\n",
       "\t<tr><td>28</td><td>1</td><td>667</td><td> 56</td><td> 44</td><td>y</td></tr>\n",
       "\t<tr><td>29</td><td>1</td><td>872</td><td> 76</td><td> 55</td><td>y</td></tr>\n",
       "\t<tr><td>30</td><td>2</td><td>234</td><td> 45</td><td> 67</td><td>n</td></tr>\n",
       "\t<tr><td>31</td><td>3</td><td>999</td><td> 23</td><td>185</td><td>y</td></tr>\n",
       "</tbody>\n",
       "</table>\n"
      ],
      "text/latex": [
       "A tibble: 31 × 6\n",
       "\\begin{tabular}{llllll}\n",
       " Day & \\# of Posts & Likes & Shares & Comments & Picture\\\\\n",
       " <dbl> & <dbl> & <dbl> & <dbl> & <dbl> & <chr>\\\\\n",
       "\\hline\n",
       "\t  1 & 1 & 545 &  45 & 154 & y\\\\\n",
       "\t  2 & 3 & 432 &  67 &  10 & n\\\\\n",
       "\t  3 & 1 & 401 &  87 &  24 & n\\\\\n",
       "\t  4 & 1 & 670 & 100 & 120 & y\\\\\n",
       "\t  5 & 1 & 421 &  87 &  45 & n\\\\\n",
       "\t  6 & 2 & 521 &  95 &  67 & y\\\\\n",
       "\t  7 & 2 & 638 &  78 & 144 & y\\\\\n",
       "\t  8 & 1 & 399 &  45 &  20 & n\\\\\n",
       "\t  9 & 4 & 702 &  66 &  98 & y\\\\\n",
       "\t 10 & 4 & 432 &  78 &  25 & n\\\\\n",
       "\t 11 & 4 & 645 &  32 & 145 & y\\\\\n",
       "\t 12 & 3 & 108 &  32 &  34 & n\\\\\n",
       "\t 13 & 3 & 132 & 101 & 100 & n\\\\\n",
       "\t 14 & 2 & 444 & 205 &  23 & n\\\\\n",
       "\t 15 & 1 & 567 &  55 &  56 & n\\\\\n",
       "\t 16 & 1 & 524 &  67 &  87 & n\\\\\n",
       "\t 17 & 1 & 301 &  89 &  90 & n\\\\\n",
       "\t 18 & 1 & 225 &  34 &  44 & n\\\\\n",
       "\t 19 & 1 & 125 &  56 &  20 & n\\\\\n",
       "\t 20 & 3 & 561 &  98 &  67 & y\\\\\n",
       "\t 21 & 3 & 102 &  76 &  20 & n\\\\\n",
       "\t 22 & 2 & 132 &  23 &  15 & n\\\\\n",
       "\t 23 & 2 & 289 &  45 &  14 & n\\\\\n",
       "\t 24 & 4 & 700 &  65 & 185 & y\\\\\n",
       "\t 25 & 4 & 324 &  87 &  90 & n\\\\\n",
       "\t 26 & 2 & 987 &   9 & 201 & y\\\\\n",
       "\t 27 & 2 & 423 &  34 &  24 & n\\\\\n",
       "\t 28 & 1 & 667 &  56 &  44 & y\\\\\n",
       "\t 29 & 1 & 872 &  76 &  55 & y\\\\\n",
       "\t 30 & 2 & 234 &  45 &  67 & n\\\\\n",
       "\t 31 & 3 & 999 &  23 & 185 & y\\\\\n",
       "\\end{tabular}\n"
      ],
      "text/markdown": [
       "\n",
       "A tibble: 31 × 6\n",
       "\n",
       "| Day &lt;dbl&gt; | # of Posts &lt;dbl&gt; | Likes &lt;dbl&gt; | Shares &lt;dbl&gt; | Comments &lt;dbl&gt; | Picture &lt;chr&gt; |\n",
       "|---|---|---|---|---|---|\n",
       "|  1 | 1 | 545 |  45 | 154 | y |\n",
       "|  2 | 3 | 432 |  67 |  10 | n |\n",
       "|  3 | 1 | 401 |  87 |  24 | n |\n",
       "|  4 | 1 | 670 | 100 | 120 | y |\n",
       "|  5 | 1 | 421 |  87 |  45 | n |\n",
       "|  6 | 2 | 521 |  95 |  67 | y |\n",
       "|  7 | 2 | 638 |  78 | 144 | y |\n",
       "|  8 | 1 | 399 |  45 |  20 | n |\n",
       "|  9 | 4 | 702 |  66 |  98 | y |\n",
       "| 10 | 4 | 432 |  78 |  25 | n |\n",
       "| 11 | 4 | 645 |  32 | 145 | y |\n",
       "| 12 | 3 | 108 |  32 |  34 | n |\n",
       "| 13 | 3 | 132 | 101 | 100 | n |\n",
       "| 14 | 2 | 444 | 205 |  23 | n |\n",
       "| 15 | 1 | 567 |  55 |  56 | n |\n",
       "| 16 | 1 | 524 |  67 |  87 | n |\n",
       "| 17 | 1 | 301 |  89 |  90 | n |\n",
       "| 18 | 1 | 225 |  34 |  44 | n |\n",
       "| 19 | 1 | 125 |  56 |  20 | n |\n",
       "| 20 | 3 | 561 |  98 |  67 | y |\n",
       "| 21 | 3 | 102 |  76 |  20 | n |\n",
       "| 22 | 2 | 132 |  23 |  15 | n |\n",
       "| 23 | 2 | 289 |  45 |  14 | n |\n",
       "| 24 | 4 | 700 |  65 | 185 | y |\n",
       "| 25 | 4 | 324 |  87 |  90 | n |\n",
       "| 26 | 2 | 987 |   9 | 201 | y |\n",
       "| 27 | 2 | 423 |  34 |  24 | n |\n",
       "| 28 | 1 | 667 |  56 |  44 | y |\n",
       "| 29 | 1 | 872 |  76 |  55 | y |\n",
       "| 30 | 2 | 234 |  45 |  67 | n |\n",
       "| 31 | 3 | 999 |  23 | 185 | y |\n",
       "\n"
      ],
      "text/plain": [
       "   Day # of Posts Likes Shares Comments Picture\n",
       "1   1  1          545    45    154      y      \n",
       "2   2  3          432    67     10      n      \n",
       "3   3  1          401    87     24      n      \n",
       "4   4  1          670   100    120      y      \n",
       "5   5  1          421    87     45      n      \n",
       "6   6  2          521    95     67      y      \n",
       "7   7  2          638    78    144      y      \n",
       "8   8  1          399    45     20      n      \n",
       "9   9  4          702    66     98      y      \n",
       "10 10  4          432    78     25      n      \n",
       "11 11  4          645    32    145      y      \n",
       "12 12  3          108    32     34      n      \n",
       "13 13  3          132   101    100      n      \n",
       "14 14  2          444   205     23      n      \n",
       "15 15  1          567    55     56      n      \n",
       "16 16  1          524    67     87      n      \n",
       "17 17  1          301    89     90      n      \n",
       "18 18  1          225    34     44      n      \n",
       "19 19  1          125    56     20      n      \n",
       "20 20  3          561    98     67      y      \n",
       "21 21  3          102    76     20      n      \n",
       "22 22  2          132    23     15      n      \n",
       "23 23  2          289    45     14      n      \n",
       "24 24  4          700    65    185      y      \n",
       "25 25  4          324    87     90      n      \n",
       "26 26  2          987     9    201      y      \n",
       "27 27  2          423    34     24      n      \n",
       "28 28  1          667    56     44      y      \n",
       "29 29  1          872    76     55      y      \n",
       "30 30  2          234    45     67      n      \n",
       "31 31  3          999    23    185      y      "
      ]
     },
     "metadata": {},
     "output_type": "display_data"
    }
   ],
   "source": [
    "Social"
   ]
  },
  {
   "cell_type": "code",
   "execution_count": 6,
   "id": "cc32c191-c26e-4ef3-b814-8bcdcfd99cc4",
   "metadata": {},
   "outputs": [],
   "source": [
    "# Convert character (yes, no) to numeric value. "
   ]
  },
  {
   "cell_type": "code",
   "execution_count": 7,
   "id": "5f2ceae3-d499-4348-9c29-8641f0540b83",
   "metadata": {},
   "outputs": [],
   "source": [
    "Social$PictureR <- NA"
   ]
  },
  {
   "cell_type": "code",
   "execution_count": 8,
   "id": "14b1904d-b1c1-42f1-b429-d53665fd5f67",
   "metadata": {},
   "outputs": [],
   "source": [
    "Social$PictureR[Social$Picture=='y'] <- 0\n",
    "Social$PictureR[Social$Picture=='n'] <- 1"
   ]
  },
  {
   "cell_type": "code",
   "execution_count": 9,
   "id": "0f83ab12-1d4b-4fa2-bc8b-afaf313640e8",
   "metadata": {},
   "outputs": [
    {
     "data": {
      "text/html": [
       "<table class=\"dataframe\">\n",
       "<caption>A tibble: 6 × 7</caption>\n",
       "<thead>\n",
       "\t<tr><th scope=col>Day</th><th scope=col># of Posts</th><th scope=col>Likes</th><th scope=col>Shares</th><th scope=col>Comments</th><th scope=col>Picture</th><th scope=col>PictureR</th></tr>\n",
       "\t<tr><th scope=col>&lt;dbl&gt;</th><th scope=col>&lt;dbl&gt;</th><th scope=col>&lt;dbl&gt;</th><th scope=col>&lt;dbl&gt;</th><th scope=col>&lt;dbl&gt;</th><th scope=col>&lt;chr&gt;</th><th scope=col>&lt;dbl&gt;</th></tr>\n",
       "</thead>\n",
       "<tbody>\n",
       "\t<tr><td>1</td><td>1</td><td>545</td><td> 45</td><td>154</td><td>y</td><td>0</td></tr>\n",
       "\t<tr><td>2</td><td>3</td><td>432</td><td> 67</td><td> 10</td><td>n</td><td>1</td></tr>\n",
       "\t<tr><td>3</td><td>1</td><td>401</td><td> 87</td><td> 24</td><td>n</td><td>1</td></tr>\n",
       "\t<tr><td>4</td><td>1</td><td>670</td><td>100</td><td>120</td><td>y</td><td>0</td></tr>\n",
       "\t<tr><td>5</td><td>1</td><td>421</td><td> 87</td><td> 45</td><td>n</td><td>1</td></tr>\n",
       "\t<tr><td>6</td><td>2</td><td>521</td><td> 95</td><td> 67</td><td>y</td><td>0</td></tr>\n",
       "</tbody>\n",
       "</table>\n"
      ],
      "text/latex": [
       "A tibble: 6 × 7\n",
       "\\begin{tabular}{lllllll}\n",
       " Day & \\# of Posts & Likes & Shares & Comments & Picture & PictureR\\\\\n",
       " <dbl> & <dbl> & <dbl> & <dbl> & <dbl> & <chr> & <dbl>\\\\\n",
       "\\hline\n",
       "\t 1 & 1 & 545 &  45 & 154 & y & 0\\\\\n",
       "\t 2 & 3 & 432 &  67 &  10 & n & 1\\\\\n",
       "\t 3 & 1 & 401 &  87 &  24 & n & 1\\\\\n",
       "\t 4 & 1 & 670 & 100 & 120 & y & 0\\\\\n",
       "\t 5 & 1 & 421 &  87 &  45 & n & 1\\\\\n",
       "\t 6 & 2 & 521 &  95 &  67 & y & 0\\\\\n",
       "\\end{tabular}\n"
      ],
      "text/markdown": [
       "\n",
       "A tibble: 6 × 7\n",
       "\n",
       "| Day &lt;dbl&gt; | # of Posts &lt;dbl&gt; | Likes &lt;dbl&gt; | Shares &lt;dbl&gt; | Comments &lt;dbl&gt; | Picture &lt;chr&gt; | PictureR &lt;dbl&gt; |\n",
       "|---|---|---|---|---|---|---|\n",
       "| 1 | 1 | 545 |  45 | 154 | y | 0 |\n",
       "| 2 | 3 | 432 |  67 |  10 | n | 1 |\n",
       "| 3 | 1 | 401 |  87 |  24 | n | 1 |\n",
       "| 4 | 1 | 670 | 100 | 120 | y | 0 |\n",
       "| 5 | 1 | 421 |  87 |  45 | n | 1 |\n",
       "| 6 | 2 | 521 |  95 |  67 | y | 0 |\n",
       "\n"
      ],
      "text/plain": [
       "  Day # of Posts Likes Shares Comments Picture PictureR\n",
       "1 1   1          545    45    154      y       0       \n",
       "2 2   3          432    67     10      n       1       \n",
       "3 3   1          401    87     24      n       1       \n",
       "4 4   1          670   100    120      y       0       \n",
       "5 5   1          421    87     45      n       1       \n",
       "6 6   2          521    95     67      y       0       "
      ]
     },
     "metadata": {},
     "output_type": "display_data"
    }
   ],
   "source": [
    "head(Social)"
   ]
  },
  {
   "cell_type": "markdown",
   "id": "f6ef9b3f-aa95-406b-85cc-67695b535bc0",
   "metadata": {},
   "source": [
    "# Examine \"Likes\""
   ]
  },
  {
   "cell_type": "code",
   "execution_count": 10,
   "id": "d748a188-d904-48fc-aba7-09ca77d1ba15",
   "metadata": {
    "collapsed": true,
    "jupyter": {
     "outputs_hidden": true
    },
    "tags": []
   },
   "outputs": [
    {
     "name": "stderr",
     "output_type": "stream",
     "text": [
      "\n",
      "Attaching package: 'dplyr'\n",
      "\n",
      "\n",
      "The following objects are masked from 'package:stats':\n",
      "\n",
      "    filter, lag\n",
      "\n",
      "\n",
      "The following objects are masked from 'package:base':\n",
      "\n",
      "    intersect, setdiff, setequal, union\n",
      "\n",
      "\n",
      "Loading required package: carData\n",
      "\n",
      "\n",
      "Attaching package: 'car'\n",
      "\n",
      "\n",
      "The following object is masked from 'package:dplyr':\n",
      "\n",
      "    recode\n",
      "\n",
      "\n"
     ]
    }
   ],
   "source": [
    "library(\"dplyr\")\n",
    "library(\"rcompanion\")\n",
    "library(\"car\")\n",
    "library(\"IDPmisc\")"
   ]
  },
  {
   "cell_type": "markdown",
   "id": "772fd0dc-28a9-4fb3-a0e5-69d5470b95b3",
   "metadata": {},
   "source": [
    " **Run a stepwise regression to see which variable has the most impact on 'Likes'**"
   ]
  },
  {
   "cell_type": "code",
   "execution_count": 11,
   "id": "693aac7f-a1cd-4da8-8bf6-de99f8db064c",
   "metadata": {},
   "outputs": [
    {
     "ename": "ERROR",
     "evalue": "Error in parse(text = x, srcfile = src): <text>:2:0: unexpected end of input\n1: FitAll = lm(Likes ~ # of Posts + Shares + Comments + PictureR, data = Social)\n   ^\n",
     "output_type": "error",
     "traceback": [
      "Error in parse(text = x, srcfile = src): <text>:2:0: unexpected end of input\n1: FitAll = lm(Likes ~ # of Posts + Shares + Comments + PictureR, data = Social)\n   ^\nTraceback:\n"
     ]
    }
   ],
   "source": [
    "FitAll = lm(Likes ~ # of Posts + Shares + Comments + PictureR, data = Social)"
   ]
  },
  {
   "cell_type": "markdown",
   "id": "a77c6e7f-76ef-4d06-9309-f97982fb7729",
   "metadata": {},
   "source": [
    " **Need to rename column**"
   ]
  },
  {
   "cell_type": "code",
   "execution_count": 13,
   "id": "890eda84-14fb-44da-a819-c20cf9bf4f54",
   "metadata": {},
   "outputs": [],
   "source": [
    "names(Social)[names(Social) == \"# of Posts\"] <- \"Posts\""
   ]
  },
  {
   "cell_type": "markdown",
   "id": "eff31191-be4a-433e-9114-603ff79601fa",
   "metadata": {},
   "source": [
    "**Now run a bakwards regression to see which factor is most likely to impact 'total likes'**"
   ]
  },
  {
   "cell_type": "code",
   "execution_count": 14,
   "id": "8390a5ac-17ef-4ae1-8a6e-acce1d2a5eb9",
   "metadata": {},
   "outputs": [],
   "source": [
    "FitAll = lm(Likes ~ Posts + Shares + Comments + PictureR, data = Social)"
   ]
  },
  {
   "cell_type": "code",
   "execution_count": 17,
   "id": "b3ae5b6a-9a18-419b-9c69-3e682b8af746",
   "metadata": {
    "tags": []
   },
   "outputs": [
    {
     "data": {
      "text/plain": [
       "\n",
       "Call:\n",
       "lm(formula = Likes ~ Posts + Shares + Comments + PictureR, data = Social)\n",
       "\n",
       "Residuals:\n",
       "     Min       1Q   Median       3Q      Max \n",
       "-227.663 -109.020    2.985  130.519  244.551 \n",
       "\n",
       "Coefficients:\n",
       "             Estimate Std. Error t value Pr(>|t|)    \n",
       "(Intercept)  627.7268   123.2011   5.095 2.61e-05 ***\n",
       "Posts        -24.0979    25.9503  -0.929 0.361629    \n",
       "Shares         0.1302     0.7972   0.163 0.871525    \n",
       "Comments       1.0596     0.7191   1.473 0.152655    \n",
       "PictureR    -317.0099    79.3382  -3.996 0.000473 ***\n",
       "---\n",
       "Signif. codes:  0 '***' 0.001 '**' 0.01 '*' 0.05 '.' 0.1 ' ' 1\n",
       "\n",
       "Residual standard error: 154.2 on 26 degrees of freedom\n",
       "Multiple R-squared:  0.6591,\tAdjusted R-squared:  0.6066 \n",
       "F-statistic: 12.57 on 4 and 26 DF,  p-value: 8.045e-06\n"
      ]
     },
     "metadata": {},
     "output_type": "display_data"
    }
   ],
   "source": [
    "summary(FitAll)"
   ]
  },
  {
   "cell_type": "code",
   "execution_count": 15,
   "id": "00beb0ae-5198-4607-ae0e-57588480948e",
   "metadata": {},
   "outputs": [
    {
     "name": "stdout",
     "output_type": "stream",
     "text": [
      "Start:  AIC=316.9\n",
      "Likes ~ Posts + Shares + Comments + PictureR\n",
      "\n",
      "           Df Sum of Sq    RSS    AIC\n",
      "- Shares    1       634 618469 314.93\n",
      "- Posts     1     20491 638327 315.91\n",
      "<none>                  617835 316.90\n",
      "- Comments  1     51585 669421 317.39\n",
      "- PictureR  1    379385 997221 329.74\n",
      "\n",
      "Step:  AIC=314.93\n",
      "Likes ~ Posts + Comments + PictureR\n",
      "\n",
      "           Df Sum of Sq     RSS    AIC\n",
      "- Posts     1     20209  638678 313.93\n",
      "<none>                   618469 314.93\n",
      "- Comments  1     51361  669830 315.40\n",
      "- PictureR  1    383087 1001556 327.88\n",
      "\n",
      "Step:  AIC=313.93\n",
      "Likes ~ Comments + PictureR\n",
      "\n",
      "           Df Sum of Sq     RSS    AIC\n",
      "- Comments  1     41390  680068 313.87\n",
      "<none>                   638678 313.93\n",
      "- PictureR  1    387666 1026344 326.63\n",
      "\n",
      "Step:  AIC=313.87\n",
      "Likes ~ PictureR\n",
      "\n",
      "           Df Sum of Sq     RSS    AIC\n",
      "<none>                   680068 313.87\n",
      "- PictureR  1   1132122 1812190 342.26\n"
     ]
    },
    {
     "data": {
      "text/plain": [
       "\n",
       "Call:\n",
       "lm(formula = Likes ~ PictureR, data = Social)\n",
       "\n",
       "Coefficients:\n",
       "(Intercept)     PictureR  \n",
       "      708.9       -392.3  \n"
      ]
     },
     "metadata": {},
     "output_type": "display_data"
    }
   ],
   "source": [
    "step(FitAll, direction = 'backward')"
   ]
  },
  {
   "cell_type": "markdown",
   "id": "809f1e0a-578d-419d-8d2c-3126b75432b0",
   "metadata": {},
   "source": [
    "**According to backward regression the strongest indicator of number of likes on a post is whether or not there is a picture in the post.**"
   ]
  },
  {
   "cell_type": "code",
   "execution_count": 18,
   "id": "c1e76a3f-7031-4076-9470-1b646068031f",
   "metadata": {},
   "outputs": [],
   "source": [
    "fitsome = lm(Likes ~ PictureR, data = Social)"
   ]
  },
  {
   "cell_type": "code",
   "execution_count": 19,
   "id": "18d04c5b-2f5d-40b4-93c2-d052b6bc7540",
   "metadata": {},
   "outputs": [
    {
     "data": {
      "text/plain": [
       "\n",
       "Call:\n",
       "lm(formula = Likes ~ PictureR, data = Social)\n",
       "\n",
       "Residuals:\n",
       "    Min      1Q  Median      3Q     Max \n",
       "-214.58 -119.75  -15.58  110.92  290.08 \n",
       "\n",
       "Coefficients:\n",
       "            Estimate Std. Error t value Pr(>|t|)    \n",
       "(Intercept)   708.92      44.21  16.036 5.92e-16 ***\n",
       "PictureR     -392.34      56.47  -6.948 1.23e-07 ***\n",
       "---\n",
       "Signif. codes:  0 '***' 0.001 '**' 0.01 '*' 0.05 '.' 0.1 ' ' 1\n",
       "\n",
       "Residual standard error: 153.1 on 29 degrees of freedom\n",
       "Multiple R-squared:  0.6247,\tAdjusted R-squared:  0.6118 \n",
       "F-statistic: 48.28 on 1 and 29 DF,  p-value: 1.228e-07\n"
      ]
     },
     "metadata": {},
     "output_type": "display_data"
    }
   ],
   "source": [
    "summary(fitsome)"
   ]
  },
  {
   "cell_type": "markdown",
   "id": "373b58b7-9a27-4f51-b527-6c358e4cce99",
   "metadata": {},
   "source": [
    "# Exploring this result by examining averages"
   ]
  },
  {
   "cell_type": "code",
   "execution_count": 20,
   "id": "657650b2-813f-442e-8847-c7198a538a02",
   "metadata": {},
   "outputs": [],
   "source": [
    "Means <- Social %>% group_by(PictureR) %>% summarize(Mean = mean(Likes))"
   ]
  },
  {
   "cell_type": "code",
   "execution_count": 21,
   "id": "863dac45-2047-42ae-aae3-61395022bc87",
   "metadata": {},
   "outputs": [
    {
     "data": {
      "text/html": [
       "<table class=\"dataframe\">\n",
       "<caption>A tibble: 2 × 2</caption>\n",
       "<thead>\n",
       "\t<tr><th scope=col>PictureR</th><th scope=col>Mean</th></tr>\n",
       "\t<tr><th scope=col>&lt;dbl&gt;</th><th scope=col>&lt;dbl&gt;</th></tr>\n",
       "</thead>\n",
       "<tbody>\n",
       "\t<tr><td>0</td><td>708.9167</td></tr>\n",
       "\t<tr><td>1</td><td>316.5789</td></tr>\n",
       "</tbody>\n",
       "</table>\n"
      ],
      "text/latex": [
       "A tibble: 2 × 2\n",
       "\\begin{tabular}{ll}\n",
       " PictureR & Mean\\\\\n",
       " <dbl> & <dbl>\\\\\n",
       "\\hline\n",
       "\t 0 & 708.9167\\\\\n",
       "\t 1 & 316.5789\\\\\n",
       "\\end{tabular}\n"
      ],
      "text/markdown": [
       "\n",
       "A tibble: 2 × 2\n",
       "\n",
       "| PictureR &lt;dbl&gt; | Mean &lt;dbl&gt; |\n",
       "|---|---|\n",
       "| 0 | 708.9167 |\n",
       "| 1 | 316.5789 |\n",
       "\n"
      ],
      "text/plain": [
       "  PictureR Mean    \n",
       "1 0        708.9167\n",
       "2 1        316.5789"
      ]
     },
     "metadata": {},
     "output_type": "display_data"
    }
   ],
   "source": [
    "Means"
   ]
  },
  {
   "cell_type": "code",
   "execution_count": null,
   "id": "43f72a52-0d8b-418a-b224-121ca1862cff",
   "metadata": {},
   "outputs": [],
   "source": []
  }
 ],
 "metadata": {
  "kernelspec": {
   "display_name": "R",
   "language": "R",
   "name": "ir"
  },
  "language_info": {
   "codemirror_mode": "r",
   "file_extension": ".r",
   "mimetype": "text/x-r-source",
   "name": "R",
   "pygments_lexer": "r",
   "version": "4.2.2"
  }
 },
 "nbformat": 4,
 "nbformat_minor": 5
}
